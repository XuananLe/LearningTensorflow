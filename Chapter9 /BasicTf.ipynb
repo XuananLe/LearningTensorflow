{
 "cells": [
  {
   "cell_type": "markdown",
   "metadata": {},
   "source": [
    "\n",
    "Tensorflow is a framework for deep learning. It is a symbolic math library, and is also used for machine learning applications such as neural networks. One of the main thing it uses is the Computational Graph. The main thing it helps with is that we can split the graph into many parts and use our hardware across many servers to calculate it.\n",
    "\n",
    "<div style=\"text-align: center;\">\n",
    "<img src=\"Images/ComGraph.png\" alt=\"Alt text describing the image\" width=\"500\"/>\n",
    "</div>\n"
   ]
  },
  {
   "cell_type": "code",
   "execution_count": 91,
   "metadata": {
    "ExecuteTime": {
     "end_time": "2023-08-20T13:31:40.206563725Z",
     "start_time": "2023-08-20T13:31:40.158924925Z"
    }
   },
   "outputs": [
    {
     "name": "stdout",
     "output_type": "stream",
     "text": [
      "2.13.0\n"
     ]
    }
   ],
   "source": [
    "import tensorflow as tf\n",
    "print(tf.__version__)\n",
    "tf.compat.v1.disable_eager_execution() # need to disable eager in TF2.\n",
    "tf.config.run_functions_eagerly(True)"
   ]
  },
  {
   "cell_type": "code",
   "execution_count": 92,
   "outputs": [
    {
     "name": "stdout",
     "output_type": "stream",
     "text": [
      "42\n"
     ]
    }
   ],
   "source": [
    "import tensorflow as tf\n",
    "# Đây là các bước có thể xây dựng một computational graph\n",
    "x = tf.Variable(3, name=\"x\")\n",
    "y = tf.Variable(4, name=\"y\")\n",
    "f = x*x*y + y + 2\n",
    "# Tuy nhiên, để có thể chạy nó thì cần phải có một session. Session ở đây được định nghĩa là một cách để chạy một computational graph.\n",
    "with tf.compat.v1.Session() as sess:\n",
    "    x.initializer.run()\n",
    "    y.initializer.run()\n",
    "    result = f.eval()\n",
    "    print(result)"
   ],
   "metadata": {
    "collapsed": false,
    "ExecuteTime": {
     "end_time": "2023-08-20T13:31:40.207003306Z",
     "start_time": "2023-08-20T13:31:40.206054710Z"
    }
   }
  },
  {
   "cell_type": "code",
   "execution_count": 93,
   "outputs": [
    {
     "name": "stdout",
     "output_type": "stream",
     "text": [
      "True\n"
     ]
    }
   ],
   "source": [
    "x1 = tf.Variable(5)\n",
    "print(x1.graph is tf.compat.v1.get_default_graph())\n",
    "# Ngay khi một node được tạo ra, nó sẽ được thêm vào default graph"
   ],
   "metadata": {
    "collapsed": false,
    "ExecuteTime": {
     "end_time": "2023-08-20T13:31:40.207768956Z",
     "start_time": "2023-08-20T13:31:40.206330383Z"
    }
   }
  },
  {
   "cell_type": "code",
   "execution_count": 94,
   "outputs": [
    {
     "name": "stdout",
     "output_type": "stream",
     "text": [
      "True\n",
      "False\n"
     ]
    }
   ],
   "source": [
    "# Trong trường hợp chúng ta muốn có nhiều graph thì chúng ta có thể tạo ra một graph mới \n",
    "graph = tf.Graph() # Graph của chúng ta\n",
    "with graph.as_default():\n",
    "    x2 = tf.Variable(10)\n",
    "print(x2.graph is graph)\n",
    "print(x2.graph is tf.compat.v1.get_default_graph())\n",
    "tf.compat.v1.reset_default_graph()\n",
    "# Ở trong tensorflow nếu như muốn dùng 1 hàm mà nó chỉ có ở ver trước nhưng k có ở ver này thì chúng ta có thể sử dụng hàm compat.v1 và compat.v2 "
   ],
   "metadata": {
    "collapsed": false,
    "ExecuteTime": {
     "end_time": "2023-08-20T13:31:40.208044186Z",
     "start_time": "2023-08-20T13:31:40.206474721Z"
    }
   }
  },
  {
   "cell_type": "code",
   "execution_count": 95,
   "outputs": [
    {
     "name": "stdout",
     "output_type": "stream",
     "text": [
      "10\n",
      "15\n"
     ]
    }
   ],
   "source": [
    "# Vòng đời của 1 node trong graph\n",
    "w = tf.constant(3)\n",
    "x = w + 2\n",
    "y = x + 5\n",
    "z = x * 3\n",
    "with tf.compat.v1.Session() as _:\n",
    "    print(y.eval())  # 10\n",
    "    print(z.eval())  # 15\n",
    "# TensorFlow sẽ tính toán lại các node mà nó cần để tính toán node mà chúng ta cần. Nó sẽ tự động dò được các biến phụ thuộc. Tuy nhiên, nó sẽ không dùng lại kết quả của các node mà nó đã tính toán trước đó."
   ],
   "metadata": {
    "collapsed": false,
    "ExecuteTime": {
     "end_time": "2023-08-20T13:31:40.273532473Z",
     "start_time": "2023-08-20T13:31:40.206746552Z"
    }
   }
  },
  {
   "cell_type": "code",
   "execution_count": 96,
   "outputs": [
    {
     "name": "stdout",
     "output_type": "stream",
     "text": [
      "10\n",
      "15\n"
     ]
    }
   ],
   "source": [
    "# Nếu như chúng ta không muốn tính toán lại 2 lần kết quả thì chúng ta \n",
    "with tf.compat.v1.Session() as _:\n",
    "    y_val, z_val = _.run([y, z])\n",
    "    # Tính toán y_val và z_val trong 1 lượt chạy \n",
    "    print(y_val)  # 10\n",
    "    print(z_val)  # 15  "
   ],
   "metadata": {
    "collapsed": false,
    "ExecuteTime": {
     "end_time": "2023-08-20T13:31:40.273863929Z",
     "start_time": "2023-08-20T13:31:40.249779931Z"
    }
   }
  },
  {
   "cell_type": "code",
   "execution_count": 97,
   "outputs": [
    {
     "name": "stdout",
     "output_type": "stream",
     "text": [
      "20640 8\n"
     ]
    }
   ],
   "source": [
    "# Tf ops có thể từ các input trả về các output.Nếu như là biến thì nó gọi là source ops. Input và ouput đều là các multidimensional arrays aka TENSOR. Vì thế chúng ta có cái tên là Tensorflow\n",
    "\n",
    "import numpy as np\n",
    "from sklearn.datasets import fetch_california_housing\n",
    "\n",
    "housing = fetch_california_housing()\n",
    "m, n = housing.data.shape\n",
    "print(m, n)"
   ],
   "metadata": {
    "collapsed": false,
    "ExecuteTime": {
     "end_time": "2023-08-20T13:31:40.274015619Z",
     "start_time": "2023-08-20T13:31:40.249908416Z"
    }
   }
  },
  {
   "cell_type": "code",
   "execution_count": 98,
   "outputs": [
    {
     "name": "stdout",
     "output_type": "stream",
     "text": [
      "[[-3.7152519e+01]\n",
      " [ 4.3609828e-01]\n",
      " [ 9.3990080e-03]\n",
      " [-1.0659942e-01]\n",
      " [ 6.4186364e-01]\n",
      " [-4.0663608e-06]\n",
      " [-3.7808868e-03]\n",
      " [-4.2343181e-01]\n",
      " [-4.3694982e-01]]\n"
     ]
    }
   ],
   "source": [
    "housing_data_plus_bias = np.c_[np.ones((m, 1)), housing.data]\n",
    "\n",
    "X = tf.constant(housing_data_plus_bias, dtype=tf.float32, name=\"X\")\n",
    "y = tf.constant(housing.target.reshape(-1, 1), dtype=tf.float32, name=\"y\")\n",
    "    \n",
    "XT = tf.transpose(X)\n",
    "theta = tf.matmul(tf.matmul(tf.linalg.inv(tf.matmul(XT, X)), XT), y)\n",
    "\n",
    "\n",
    "with tf.compat.v1.Session() as _:\n",
    "    theta_value = theta.eval()\n",
    "    print(theta_value)"
   ],
   "metadata": {
    "collapsed": false,
    "ExecuteTime": {
     "end_time": "2023-08-20T13:31:40.274117331Z",
     "start_time": "2023-08-20T13:31:40.249954860Z"
    }
   }
  },
  {
   "cell_type": "code",
   "execution_count": 122,
   "outputs": [
    {
     "name": "stdout",
     "output_type": "stream",
     "text": [
      "Epoch:  0 Loss:  100.0 x_value:  10.0\n",
      "Epoch:  100 Loss:  1.758795 x_value:  1.3261957\n",
      "Epoch:  200 Loss:  0.030933581 x_value:  0.17587945\n",
      "Epoch:  300 Loss:  0.000544058 x_value:  0.02332505\n",
      "Epoch:  400 Loss:  9.568863e-06 x_value:  0.003093358\n",
      "Epoch:  500 Loss:  1.6829671e-07 x_value:  0.00041023982\n",
      "Epoch:  600 Loss:  2.9599914e-09 x_value:  5.4405802e-05\n",
      "Epoch:  700 Loss:  5.206017e-11 x_value:  7.2152734e-06\n",
      "Epoch:  800 Loss:  9.156318e-13 x_value:  9.568865e-07\n",
      "Epoch:  900 Loss:  1.610407e-14 x_value:  1.2690181e-07\n",
      "\n",
      "\n",
      "Best Epoch:  999 Best x_value:  1.7173129e-08 Smallest Loss:  2.9491636e-16\n"
     ]
    }
   ],
   "source": [
    "import tensorflow as tf\n",
    "n_epochs = 1000\n",
    "learning_rate = 0.01\n",
    "tf.compat.v1.disable_eager_execution()\n",
    "x = tf.Variable(10.0, trainable=True)\n",
    "# Định nghĩa hàm loss\n",
    "loss = tf.square(x)\n",
    "\n",
    "# Định nghĩa optimizer là Gradient Descent\n",
    "optimizer = tf.compat.v1.train.GradientDescentOptimizer (learning_rate=learning_rate)\n",
    "training_op = optimizer.minimize(loss)\n",
    "\n",
    "values = []\n",
    "smallest_loss = float('inf')  # set to infinity initially\n",
    "best_epoch = -1\n",
    "best_x_value = None\n",
    "\n",
    "\n",
    "with tf.compat.v1.Session() as sess:\n",
    "    sess.run(tf.compat.v1.global_variables_initializer())\n",
    "    for epoch in range(n_epochs):\n",
    "        # rất bực ở chỗ là mỗi lần chạy thì nó phải sess.run\n",
    "        _, loss_value, x_value = sess.run([training_op, loss, x])\n",
    "        if loss_value < smallest_loss:\n",
    "            smallest_loss = loss_value\n",
    "            best_epoch = epoch\n",
    "            best_x_value = x_value\n",
    "        values.append((epoch, loss_value, x_value))\n",
    "        if epoch % 100 == 0:\n",
    "            print(\"Epoch: \", epoch, \"Loss: \", loss_value, \"x_value: \", x_value)\n",
    "\n",
    "print()\n",
    "print()\n",
    "print(\"Best Epoch: \", best_epoch, \"Best x_value: \", best_x_value, \"Smallest Loss: \", smallest_loss)"
   ],
   "metadata": {
    "collapsed": false,
    "ExecuteTime": {
     "end_time": "2023-08-20T13:45:36.618560592Z",
     "start_time": "2023-08-20T13:45:36.522140080Z"
    }
   }
  }
 ],
 "metadata": {
  "kernelspec": {
   "display_name": "venv",
   "language": "python",
   "name": "python3"
  },
  "language_info": {
   "codemirror_mode": {
    "name": "ipython",
    "version": 3
   },
   "file_extension": ".py",
   "mimetype": "text/x-python",
   "name": "python",
   "nbconvert_exporter": "python",
   "pygments_lexer": "ipython3",
   "version": "3.11.4"
  },
  "orig_nbformat": 4
 },
 "nbformat": 4,
 "nbformat_minor": 2
}
