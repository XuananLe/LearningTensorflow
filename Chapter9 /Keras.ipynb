{
 "cells": [
  {
   "cell_type": "code",
   "execution_count": 3,
   "metadata": {},
   "outputs": [],
   "source": [
    "import tensorflow as tf\n",
    "import keras\n",
    "from keras import layers"
   ]
  },
  {
   "cell_type": "code",
   "execution_count": 8,
   "metadata": {},
   "outputs": [],
   "source": [
    "# Define Sequential model with 3 layers\n",
    "model = keras.Sequential(\n",
    "    [\n",
    "        layers.Dense(2, activation=\"relu\", name=\"layer1\"),\n",
    "        layers.Dense(3, activation=\"relu\", name=\"layer2\"),\n",
    "        layers.Dense(4,activation=\"relu\",name=\"layer9\"),\n",
    "        layers.Dense(4, name=\"layer3\"),\n",
    "    ]\n",
    ")\n",
    "# Call model on a test input\n",
    "x = tf.ones((3, 3))\n",
    "y = model(x)"
   ]
  },
  {
   "cell_type": "code",
   "execution_count": 13,
   "metadata": {},
   "outputs": [
    {
     "ename": "AttributeError",
     "evalue": "'list' object has no attribute 'output_shape'",
     "output_type": "error",
     "traceback": [
      "\u001b[0;31m---------------------------------------------------------------------------\u001b[0m",
      "\u001b[0;31mAttributeError\u001b[0m                            Traceback (most recent call last)",
      "Cell \u001b[0;32mIn[13], line 2\u001b[0m\n\u001b[1;32m      1\u001b[0m model\u001b[39m.\u001b[39mpop()\n\u001b[0;32m----> 2\u001b[0m [\u001b[39m-\u001b[39;49m\u001b[39m1\u001b[39;49m]\u001b[39m.\u001b[39;49moutput_shape\n\u001b[1;32m      3\u001b[0m model\u001b[39m.\u001b[39mlayers\n",
      "\u001b[0;31mAttributeError\u001b[0m: 'list' object has no attribute 'output_shape'"
     ]
    }
   ],
   "source": [
    "model.pop()\n",
    "model.layers"
   ]
  },
  {
   "cell_type": "code",
   "execution_count": 3,
   "metadata": {},
   "outputs": [
    {
     "name": "stdout",
     "output_type": "stream",
     "text": [
      "Model: \"model_1\"\n",
      "__________________________________________________________________________________________________\n",
      " Layer (type)                Output Shape                 Param #   Connected to                  \n",
      "==================================================================================================\n",
      " input_3 (InputLayer)        [(None, 64, 64, 3)]          0         []                            \n",
      "                                                                                                  \n",
      " conv2d_2 (Conv2D)           (None, 62, 62, 32)           896       ['input_3[0][0]']             \n",
      "                                                                                                  \n",
      " input_4 (InputLayer)        [(None, 10, 128)]            0         []                            \n",
      "                                                                                                  \n",
      " conv2d_3 (Conv2D)           (None, 60, 60, 64)           18496     ['conv2d_2[0][0]']            \n",
      "                                                                                                  \n",
      " lstm_1 (LSTM)               (None, 10, 64)               49408     ['input_4[0][0]']             \n",
      "                                                                                                  \n",
      " flatten_2 (Flatten)         (None, 230400)               0         ['conv2d_3[0][0]']            \n",
      "                                                                                                  \n",
      " flatten_3 (Flatten)         (None, 640)                  0         ['lstm_1[0][0]']              \n",
      "                                                                                                  \n",
      " concatenate_1 (Concatenate  (None, 231040)               0         ['flatten_2[0][0]',           \n",
      " )                                                                   'flatten_3[0][0]']           \n",
      "                                                                                                  \n",
      " dense_3 (Dense)             (None, 128)                  2957324   ['concatenate_1[0][0]']       \n",
      "                                                          8                                       \n",
      "                                                                                                  \n",
      " dense_4 (Dense)             (None, 64)                   8256      ['dense_3[0][0]']             \n",
      "                                                                                                  \n",
      " dense_5 (Dense)             (None, 64)                   4160      ['dense_4[0][0]']             \n",
      "                                                                                                  \n",
      " add_1 (Add)                 (None, 64)                   0         ['dense_4[0][0]',             \n",
      "                                                                     'dense_5[0][0]']             \n",
      "                                                                                                  \n",
      " output1 (Dense)             (None, 10)                   650       ['add_1[0][0]']               \n",
      "                                                                                                  \n",
      " output2 (Dense)             (None, 1)                    65        ['add_1[0][0]']               \n",
      "                                                                                                  \n",
      "==================================================================================================\n",
      "Total params: 29655179 (113.13 MB)\n",
      "Trainable params: 29655179 (113.13 MB)\n",
      "Non-trainable params: 0 (0.00 Byte)\n",
      "__________________________________________________________________________________________________\n"
     ]
    }
   ],
   "source": [
    "import tensorflow as tf\n",
    "from tensorflow.keras.layers import Input, Dense, LSTM, Conv2D, Flatten, Add\n",
    "from tensorflow.keras.models import Model\n",
    "\n",
    "# Input 1: Image data\n",
    "input_img = Input(shape=(64, 64, 3))\n",
    "conv1 = Conv2D(32, (3,3), activation='relu')(input_img)\n",
    "conv2 = Conv2D(64, (3,3), activation='relu')(conv1)\n",
    "flat = Flatten()(conv2)\n",
    "\n",
    "# Input 2: Sequential data\n",
    "input_seq = Input(shape=(10, 128))\n",
    "lstm = LSTM(64, return_sequences=True)(input_seq)\n",
    "lstm_flat = Flatten()(lstm)\n",
    "\n",
    "# Merge inputs\n",
    "merged = tf.keras.layers.concatenate([flat, lstm_flat])\n",
    "\n",
    "# Dense layers with skip connection\n",
    "d1 = Dense(128, activation='relu')(merged)\n",
    "d2 = Dense(64, activation='relu')(d1)\n",
    "d3 = Dense(64, activation='relu')(d2)\n",
    "residual = Add()([d2, d3]) # A simple residual connection\n",
    "\n",
    "# Multiple output branches\n",
    "output1 = Dense(10, activation='softmax', name='output1')(residual)\n",
    "output2 = Dense(1, activation='sigmoid', name='output2')(residual)\n",
    "\n",
    "# Build the model\n",
    "model = Model(inputs=[input_img, input_seq], outputs=[output1, output2])\n",
    "model.compile(optimizer='adam', \n",
    "              loss={'output1': 'categorical_crossentropy', 'output2': 'binary_crossentropy'})\n",
    "\n",
    "model.summary()\n"
   ]
  },
  {
   "cell_type": "code",
   "execution_count": 10,
   "metadata": {},
   "outputs": [
    {
     "name": "stdout",
     "output_type": "stream",
     "text": [
      "Model: \"sequential_6\"\n",
      "_________________________________________________________________\n",
      " Layer (type)                Output Shape              Param #   \n",
      "=================================================================\n",
      " conv2d (Conv2D)             (None, 123, 123, 32)      2432      \n",
      "                                                                 \n",
      " conv2d_1 (Conv2D)           (None, 121, 121, 32)      9248      \n",
      "                                                                 \n",
      " max_pooling2d (MaxPooling2  (None, 40, 40, 32)        0         \n",
      " D)                                                              \n",
      "                                                                 \n",
      "=================================================================\n",
      "Total params: 11680 (45.62 KB)\n",
      "Trainable params: 11680 (45.62 KB)\n",
      "Non-trainable params: 0 (0.00 Byte)\n",
      "_________________________________________________________________\n",
      "Model: \"sequential_6\"\n",
      "_________________________________________________________________\n",
      " Layer (type)                Output Shape              Param #   \n",
      "=================================================================\n",
      " conv2d (Conv2D)             (None, 123, 123, 32)      2432      \n",
      "                                                                 \n",
      " conv2d_1 (Conv2D)           (None, 121, 121, 32)      9248      \n",
      "                                                                 \n",
      " max_pooling2d (MaxPooling2  (None, 40, 40, 32)        0         \n",
      " D)                                                              \n",
      "                                                                 \n",
      " conv2d_2 (Conv2D)           (None, 38, 38, 32)        9248      \n",
      "                                                                 \n",
      " conv2d_3 (Conv2D)           (None, 36, 36, 32)        9248      \n",
      "                                                                 \n",
      " max_pooling2d_1 (MaxPoolin  (None, 12, 12, 32)        0         \n",
      " g2D)                                                            \n",
      "                                                                 \n",
      " conv2d_4 (Conv2D)           (None, 10, 10, 32)        9248      \n",
      "                                                                 \n",
      " conv2d_5 (Conv2D)           (None, 8, 8, 32)          9248      \n",
      "                                                                 \n",
      " max_pooling2d_2 (MaxPoolin  (None, 4, 4, 32)          0         \n",
      " g2D)                                                            \n",
      "                                                                 \n",
      "=================================================================\n",
      "Total params: 48672 (190.12 KB)\n",
      "Trainable params: 48672 (190.12 KB)\n",
      "Non-trainable params: 0 (0.00 Byte)\n",
      "_________________________________________________________________\n"
     ]
    }
   ],
   "source": [
    "model = keras.Sequential()\n",
    "model.add(keras.Input(shape=(250, 250, 3)))  # 250x250 RGB images\n",
    "model.add(layers.Conv2D(32, 5, strides=2, activation=\"relu\"))\n",
    "model.add(layers.Conv2D(32, 3, activation=\"relu\"))\n",
    "model.add(layers.MaxPooling2D(3))\n",
    "\n",
    "# Can you guess what the current output shape is at this point? Probably not.\n",
    "# Let's just print it:\n",
    "model.summary()\n",
    "\n",
    "# The answer was: (40, 40, 32), so we can keep downsampling...\n",
    "\n",
    "model.add(layers.Conv2D(32, 3, activation=\"relu\"))\n",
    "model.add(layers.Conv2D(32, 3, activation=\"relu\"))\n",
    "model.add(layers.MaxPooling2D(3))\n",
    "model.add(layers.Conv2D(32, 3, activation=\"relu\"))\n",
    "model.add(layers.Conv2D(32, 3, activation=\"relu\"))\n",
    "model.add(layers.MaxPooling2D(2))\n",
    "\n",
    "# And now?\n",
    "model.summary()\n",
    "\n",
    "# Now that we have 4x4 feature maps, time to apply global max pooling.\n",
    "model.add(layers.GlobalMaxPooling2D())\n",
    "\n",
    "# Finally, we add a classification layer.\n",
    "model.add(layers.Dense(10))"
   ]
  }
 ],
 "metadata": {
  "kernelspec": {
   "display_name": "venv",
   "language": "python",
   "name": "python3"
  },
  "language_info": {
   "codemirror_mode": {
    "name": "ipython",
    "version": 3
   },
   "file_extension": ".py",
   "mimetype": "text/x-python",
   "name": "python",
   "nbconvert_exporter": "python",
   "pygments_lexer": "ipython3",
   "version": "3.11.4"
  },
  "orig_nbformat": 4
 },
 "nbformat": 4,
 "nbformat_minor": 2
}
