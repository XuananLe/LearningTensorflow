{
 "cells": [
  {
   "cell_type": "code",
   "execution_count": 1,
   "metadata": {},
   "outputs": [
    {
     "name": "stderr",
     "output_type": "stream",
     "text": [
      "2023-08-21 16:36:39.298828: I tensorflow/core/util/port.cc:110] oneDNN custom operations are on. You may see slightly different numerical results due to floating-point round-off errors from different computation orders. To turn them off, set the environment variable `TF_ENABLE_ONEDNN_OPTS=0`.\n",
      "2023-08-21 16:36:39.299921: I tensorflow/tsl/cuda/cudart_stub.cc:28] Could not find cuda drivers on your machine, GPU will not be used.\n",
      "2023-08-21 16:36:39.324737: I tensorflow/tsl/cuda/cudart_stub.cc:28] Could not find cuda drivers on your machine, GPU will not be used.\n",
      "2023-08-21 16:36:39.325333: I tensorflow/core/platform/cpu_feature_guard.cc:182] This TensorFlow binary is optimized to use available CPU instructions in performance-critical operations.\n",
      "To enable the following instructions: AVX2 AVX_VNNI FMA, in other operations, rebuild TensorFlow with the appropriate compiler flags.\n",
      "2023-08-21 16:36:39.931665: W tensorflow/compiler/tf2tensorrt/utils/py_utils.cc:38] TF-TRT Warning: Could not find TensorRT\n"
     ]
    }
   ],
   "source": [
    "import tensorflow as tf\n",
    "import keras\n",
    "from keras import layers"
   ]
  },
  {
   "cell_type": "code",
   "execution_count": 47,
   "metadata": {},
   "outputs": [
    {
     "name": "stdout",
     "output_type": "stream",
     "text": [
      "layer1\n",
      "Weights: [[-1.0493544   0.7363399 ]\n",
      " [-0.19919515  0.207973  ]\n",
      " [-0.18664336 -0.84004706]]\n",
      "Biases: [0. 0.]\n",
      "------------\n",
      "layer2\n",
      "Weights: [[-0.21164376 -0.7095196  -0.45058084]\n",
      " [-0.7338321   0.1422962  -0.51181006]]\n",
      "Biases: [0. 0. 0.]\n",
      "------------\n",
      "layer3\n",
      "Weights: [[-0.369933   -0.89441603  0.08582222 -0.8300144 ]\n",
      " [ 0.9001694   0.08848596  0.32949078  0.28434944]\n",
      " [ 0.23469234  0.629735    0.3881148   0.35783112]]\n",
      "Biases: [0. 0. 0. 0.]\n",
      "------------\n"
     ]
    }
   ],
   "source": [
    "model = keras.Sequential(\n",
    "    [\n",
    "        layers.Dense(2, activation=\"relu\", name=\"layer1\"), # After this step the matrix is 3x2\n",
    "        layers.Dense(3, activation=\"relu\", name=\"layer2\"), # After this step the matrix is 3x3 (3x2 * 2x3)\n",
    "        layers.Dense(4, name=\"layer3\"), # After this step the matrix is 3x4 (3x3 * 3x4)\n",
    "    ]\n",
    ")\n",
    "\n",
    "x = tf.ones((3, 3))\n",
    "y = model(x)\n",
    "#print(y.numpy())\n",
    "for layer in model.layers:\n",
    "    print(layer.name)\n",
    "    weights, biases = layer.get_weights()\n",
    "    print(\"Weights:\", weights)\n",
    "    print(\"Biases:\", biases)\n",
    "    print(\"------------\")\n"
   ]
  },
  {
   "cell_type": "code",
   "execution_count": null,
   "metadata": {},
   "outputs": [],
   "source": []
  }
 ],
 "metadata": {
  "kernelspec": {
   "display_name": "venv",
   "language": "python",
   "name": "python3"
  },
  "language_info": {
   "codemirror_mode": {
    "name": "ipython",
    "version": 3
   },
   "file_extension": ".py",
   "mimetype": "text/x-python",
   "name": "python",
   "nbconvert_exporter": "python",
   "pygments_lexer": "ipython3",
   "version": "3.11.4"
  },
  "orig_nbformat": 4
 },
 "nbformat": 4,
 "nbformat_minor": 2
}
