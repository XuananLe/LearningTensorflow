{
 "cells": [
  {
   "cell_type": "code",
   "execution_count": null,
   "id": "initial_id",
   "metadata": {
    "collapsed": true,
    "is_executing": true
   },
   "outputs": [],
   "source": [
    "import numpy as np"
   ]
  },
  {
   "cell_type": "code",
   "execution_count": null,
   "id": "265c8cb60b99875c",
   "metadata": {
    "collapsed": false,
    "is_executing": true
   },
   "outputs": [],
   "source": [
    "a = np.array([1, 2, 3])\n",
    "print(a.shape)  # (3,) mean 1D array with 3 elements\n",
    "b = np.array([(1.5, 2, 3), (4, 5, 6)], dtype=float)\n",
    "print(b.shape)\n",
    "c = np.array([[(1.5, 2, 3), (4, 5, 6)], [(3, 2, 1), (4, 5, 6)]], dtype=float)\n",
    "print(c.shape)\n"
   ]
  },
  {
   "cell_type": "code",
   "execution_count": 4,
   "id": "4b1095900ed953a7",
   "metadata": {
    "ExecuteTime": {
     "end_time": "2023-09-10T07:15:50.812158975Z",
     "start_time": "2023-09-10T07:15:50.811425152Z"
    },
    "collapsed": false
   },
   "outputs": [
    {
     "name": "stdout",
     "output_type": "stream",
     "text": [
      "[[0. 0. 0. 0.]\n",
      " [0. 0. 0. 0.]\n",
      " [0. 0. 0. 0.]]\n",
      "[[[1 1 1 1]\n",
      "  [1 1 1 1]\n",
      "  [1 1 1 1]]\n",
      "\n",
      " [[1 1 1 1]\n",
      "  [1 1 1 1]\n",
      "  [1 1 1 1]]]\n",
      "[[1. 0.]\n",
      " [0. 1.]]\n"
     ]
    },
    {
     "data": {
      "text/plain": [
       "array([[0.85262595, 0.18357908],\n",
       "       [0.80270695, 0.07204888]])"
      ]
     },
     "execution_count": 4,
     "metadata": {},
     "output_type": "execute_result"
    }
   ],
   "source": [
    "print(np.zeros((3, 4)))\n",
    "print(np.ones((2, 3, 4), dtype=np.int16))\n",
    "d = np.arange(10, 25, 5)  #Create an array of evenly spaced values (step value)\n",
    "np.linspace(0, 2, 9)  #Create an array of evenly spaced values (number of samples)\n",
    "e = np.full((2, 2), 7)  #Create a constant array\n",
    "f = np.eye(2)  #Create a 2X2 identity matrix\n",
    "print(f)\n",
    "np.random.random((2, 2))  #Create an array with random values\n"
   ]
  },
  {
   "cell_type": "code",
   "execution_count": 5,
   "id": "473cb81f078080c2",
   "metadata": {
    "ExecuteTime": {
     "end_time": "2023-09-10T07:15:50.812382992Z",
     "start_time": "2023-09-10T07:15:50.811629593Z"
    },
    "collapsed": false
   },
   "outputs": [
    {
     "name": "stdout",
     "output_type": "stream",
     "text": [
      "[[1.39069238e-309 1.39069238e-309]\n",
      " [1.39069238e-309 1.39069238e-309]\n",
      " [1.39069238e-309 1.39069238e-309]]\n"
     ]
    }
   ],
   "source": [
    "print(np.empty((3, 2)))  #Create an empty array"
   ]
  },
  {
   "cell_type": "code",
   "execution_count": 6,
   "id": "599599834f72b80a",
   "metadata": {
    "ExecuteTime": {
     "end_time": "2023-09-10T07:15:50.812613414Z",
     "start_time": "2023-09-10T07:15:50.811803853Z"
    },
    "collapsed": false
   },
   "outputs": [
    {
     "name": "stdout",
     "output_type": "stream",
     "text": [
      "[0 1 2 3 4 5 6 7 8 9]\n",
      "[[0 1 2 3 4]\n",
      " [5 6 7 8 9]]\n",
      "[[0 1]\n",
      " [2 3]\n",
      " [4 5]\n",
      " [6 7]\n",
      " [8 9]]\n",
      "[[0 1 2 3 4]\n",
      " [5 6 7 8 9]]\n",
      "[[0 1 2 3 4]\n",
      " [5 6 7 8 9]]\n",
      "[[[0 1 2 3 4]]\n",
      "\n",
      " [[5 6 7 8 9]]]\n",
      "[[0]\n",
      " [1]\n",
      " [2]\n",
      " [3]\n",
      " [4]\n",
      " [5]\n",
      " [6]\n",
      " [7]\n",
      " [8]\n",
      " [9]]\n",
      "[0 1 2 3 4 5 6 7 8 9]\n",
      "[[0 1 2 3 4 5 6 7 8 9]]\n"
     ]
    }
   ],
   "source": [
    "# reshape the array\n",
    "print(np.arange(10))\n",
    "print(np.arange(10).reshape(2, 5))\n",
    "print(np.arange(10).reshape(5, 2))\n",
    "print(np.arange(10).reshape(2, -1))  # -1 means \"whatever is needed\"\n",
    "print(np.arange(10).reshape(-1, 5))  # -1 means \"whatever is needed\"\n",
    "print(np.arange(10).reshape(2, 1, -1))  # -1 means \"whatever is needed\"\n",
    "print(np.arange(10).reshape(10,1))\n",
    " # flatten the array\n",
    "print(np.arange(10).flatten())\n",
    "print(np.arange(10).reshape(1,-1))"
   ]
  },
  {
   "cell_type": "code",
   "execution_count": 7,
   "id": "86c7238fc14b71ba",
   "metadata": {
    "ExecuteTime": {
     "end_time": "2023-09-10T07:15:50.812848748Z",
     "start_time": "2023-09-10T07:15:50.812054232Z"
    },
    "collapsed": false
   },
   "outputs": [
    {
     "name": "stdout",
     "output_type": "stream",
     "text": [
      "[[1.5 4. ]\n",
      " [2.  5. ]\n",
      " [3.  6. ]]\n"
     ]
    }
   ],
   "source": [
    "b = np.array([(1.5, 2, 3), (4, 5, 6)], dtype=float)\n",
    "i = np.transpose(b)\n",
    "print(i)"
   ]
  },
  {
   "cell_type": "code",
   "execution_count": 1,
   "id": "8068409642ce6a43",
   "metadata": {
    "collapsed": false
   },
   "outputs": [
    {
     "name": "stdout",
     "output_type": "stream",
     "text": [
      "Ma trận ban đầu:\n",
      "[[1 2 3]\n",
      " [4 5 6]\n",
      " [7 8 9]]\n",
      "Tổng theo cột:\n",
      "[12 15 18]\n",
      "Tổng theo hàng:\n",
      "[ 6 15 24]\n"
     ]
    }
   ],
   "source": [
    "import numpy as np\n",
    "\n",
    "# Tạo một mảng hai chiều (ma trận)\n",
    "matrix = np.array([[1, 2, 3],\n",
    "                   [4, 5, 6],\n",
    "                   [7, 8, 9]])\n",
    "\n",
    "# Sử dụng axes để tính tổng theo các chiều (hàng và cột)\n",
    "# axis=0 tính tổng theo cột\n",
    "column_sum = np.sum(matrix, axis=0)\n",
    "\n",
    "# axis=1 tính tổng theo hàng\n",
    "row_sum = np.sum(matrix, axis=1)\n",
    "\n",
    "print(\"Ma trận ban đầu:\")\n",
    "print(matrix)\n",
    "\n",
    "print(\"Tổng theo cột:\")\n",
    "print(column_sum)\n",
    "\n",
    "print(\"Tổng theo hàng:\")\n",
    "print(row_sum)\n"
   ]
  },
  {
   "cell_type": "code",
   "execution_count": 5,
   "id": "f2501d3b",
   "metadata": {},
   "outputs": [
    {
     "name": "stdout",
     "output_type": "stream",
     "text": [
      "[50, 30, 10]\n"
     ]
    }
   ],
   "source": [
    "my_list = [10, 20, 30, 40, 50]\n",
    "\n",
    "# Accessing elements using positive indices\n",
    "first_element = my_list[0]   # 10\n",
    "second_element = my_list[1]  # 20\n",
    "\n",
    "# Accessing elements using negative indices\n",
    "last_element = my_list[-1]       # 50 (last element)\n",
    "second_last_element = my_list[-2] # 40 (second-to-last element)\n",
    "\n",
    "# Accessing elements in reverse order\n",
    "reverse_order = my_list[::-1]    # [50, 40, 30, 20, 10]\n",
    "\n",
    "print(my_list[:: -2])"
   ]
  },
  {
   "cell_type": "code",
   "execution_count": 6,
   "id": "e70ce7fe",
   "metadata": {},
   "outputs": [
    {
     "name": "stderr",
     "output_type": "stream",
     "text": [
      "2023-09-10 19:03:41.377748: I tensorflow/core/util/port.cc:110] oneDNN custom operations are on. You may see slightly different numerical results due to floating-point round-off errors from different computation orders. To turn them off, set the environment variable `TF_ENABLE_ONEDNN_OPTS=0`.\n",
      "2023-09-10 19:03:41.378880: I tensorflow/tsl/cuda/cudart_stub.cc:28] Could not find cuda drivers on your machine, GPU will not be used.\n",
      "2023-09-10 19:03:41.403192: I tensorflow/tsl/cuda/cudart_stub.cc:28] Could not find cuda drivers on your machine, GPU will not be used.\n",
      "2023-09-10 19:03:41.403826: I tensorflow/core/platform/cpu_feature_guard.cc:182] This TensorFlow binary is optimized to use available CPU instructions in performance-critical operations.\n",
      "To enable the following instructions: AVX2 AVX_VNNI FMA, in other operations, rebuild TensorFlow with the appropriate compiler flags.\n",
      "2023-09-10 19:03:41.978767: W tensorflow/compiler/tf2tensorrt/utils/py_utils.cc:38] TF-TRT Warning: Could not find TensorRT\n"
     ]
    }
   ],
   "source": [
    "import tensorflow as tf"
   ]
  },
  {
   "cell_type": "code",
   "execution_count": 12,
   "id": "2c26c1ff",
   "metadata": {},
   "outputs": [
    {
     "name": "stdout",
     "output_type": "stream",
     "text": [
      "tf.Tensor([0. 0.], shape=(2,), dtype=float32)\n"
     ]
    }
   ],
   "source": [
    "def naive_relu(x: tf.Tensor) -> tf.Tensor:\n",
    "    assert x.shape == (2,)  # Assuming you want x to be a 1D tensor with 2 elements\n",
    "    x = x.numpy().copy()  # Convert to a NumPy array for element-wise operations\n",
    "    for i in range(x.shape[0]):\n",
    "        x[i] = max(x[i], 0)\n",
    "    return tf.constant(x)  # Convert back to a TensorFlow tensor\n",
    "\n",
    "# Example usage:\n",
    "import tensorflow as tf\n",
    "\n",
    "input_tensor = tf.constant([-1, 0], dtype=tf.float32)\n",
    "output_tensor = naive_relu(input_tensor)\n",
    "print(output_tensor)\n"
   ]
  },
  {
   "cell_type": "code",
   "execution_count": 33,
   "id": "28c6387a",
   "metadata": {},
   "outputs": [
    {
     "name": "stdout",
     "output_type": "stream",
     "text": [
      "[[0.22554679 0.07711604 0.50047608 0.33602659 0.18055652 0.13211171\n",
      "  0.53999376 0.03557176 0.9531138  0.96537672]]\n"
     ]
    }
   ],
   "source": [
    "import numpy as np\n",
    "x = np.random.random((32,10))\n",
    "y = np.random.random((10,))\n",
    "y = np.expand_dims(y, axis=0)\n",
    "print(y)"
   ]
  },
  {
   "cell_type": "code",
   "execution_count": 35,
   "id": "b5ada630",
   "metadata": {},
   "outputs": [
    {
     "name": "stdout",
     "output_type": "stream",
     "text": [
      "Matrix 1:\n",
      "[[1 2 3]\n",
      " [4 5 6]]\n",
      "Matrix 2:\n",
      "[1 2 3]\n",
      "Dot Product:\n",
      "[14 32]\n"
     ]
    }
   ],
   "source": [
    "import numpy as np\n",
    "\n",
    "# Tạo hai ma trận NumPy\n",
    "matrix1 = np.array([[1, 2, 3],\n",
    "                    [4, 5, 6]])\n",
    "\n",
    "matrix2 = np.array([1,2,3])\n",
    "\n",
    "# Tính toán dot product bằng np.dot() hoặc matrix1.dot(matrix2)\n",
    "result_dot_product = np.dot(matrix1, matrix2)\n",
    "\n",
    "# In kết quả\n",
    "print(\"Matrix 1:\")\n",
    "print(matrix1)\n",
    "\n",
    "print(\"Matrix 2:\")\n",
    "print(matrix2)\n",
    "\n",
    "print(\"Dot Product:\")\n",
    "print(result_dot_product)\n"
   ]
  },
  {
   "cell_type": "code",
   "execution_count": 46,
   "metadata": {},
   "outputs": [
    {
     "name": "stdout",
     "output_type": "stream",
     "text": [
      "(4, 1)\n"
     ]
    }
   ],
   "source": [
    "import numpy as np\n",
    "\n",
    "x = np.array([\n",
    "    [1, 2],\n",
    "    [2, 3]\n",
    "])\n",
    "x = x.reshape((4, -1))\n",
    "\n",
    "print(x.shape)\n"
   ]
  },
  {
   "cell_type": "code",
   "execution_count": 8,
   "id": "63709c26",
   "metadata": {},
   "outputs": [
    {
     "name": "stdout",
     "output_type": "stream",
     "text": [
      "[0 1 1 0 0]\n",
      "[[0 0]\n",
      " [1 0]\n",
      " [1 1]\n",
      " [0 1]\n",
      " [0 0]]\n"
     ]
    },
    {
     "data": {
      "image/png": "[encoded data removed]",
      "text/plain": [
       "<Figure size 640x480 with 1 Axes>"
      ]
     },
     "metadata": {},
     "output_type": "display_data"
    }
   ],
   "source": [
    "import numpy as np\n",
    "import matplotlib.pyplot as plt\n",
    "\n",
    "# Define the original square\n",
    "square = np.array([[0, 0], [1, 0], [1, 1], [0, 1], [0, 0]])\n",
    "print(square[:, 0])\n",
    "print(square[:, :])\n",
    "\n",
    "# Define the scaling factors\n",
    "scale_x = 2\n",
    "scale_y = 0.5\n",
    "\n",
    "# Create an affine transformation matrix for scaling\n",
    "transformation_matrix = np.array([[scale_x, 0], [0, scale_y]])\n",
    "\n",
    "# Apply the transformation to the square\n",
    "transformed_square = np.dot(square, transformation_matrix)\n",
    "\n",
    "# Plot the original and transformed squares\n",
    "plt.plot(square[:, 0], square[:, 1], label=\"Original Square\", linestyle='-', marker='o')\n",
    "plt.plot(transformed_square[:, 0], transformed_square[:, 1], label=\"Transformed Square\", linestyle='-', marker='o')\n",
    "\n",
    "plt.xlabel('X-axis')\n",
    "plt.ylabel('Y-axis')\n",
    "plt.legend()\n",
    "plt.grid(True)\n",
    "plt.axis('equal')  # Ensure equal scaling on both axes\n",
    "plt.title('Affine Transformation: Scaling')\n",
    "plt.show()\n"
   ]
  },
  {
   "cell_type": "code",
   "execution_count": 6,
   "id": "0a9c1ffa",
   "metadata": {},
   "outputs": [
    {
     "name": "stdout",
     "output_type": "stream",
     "text": [
      "1.9999999999999862\n"
     ]
    }
   ],
   "source": [
    "# initial weight \n",
    "w = 0.5\n",
    "x = 2.0\n",
    "# Corrected Value\n",
    "y_true = 4.0\n",
    "# loop\n",
    "epochs = 10000\n",
    "learning_rate = 0.001\n",
    "for i in range(epochs):\n",
    "    y_pred = w * x\n",
    "\n",
    "    loss = (y_true - y_pred) ** 2\n",
    "    # d loss / d w = d loss / d pred  * d pred * d \n",
    "    w = w - learning_rate * (2 * (y_pred - y_true) * x)\n",
    "\n",
    "print(w)"
   ]
  },
  {
   "cell_type": "code",
   "execution_count": 8,
   "id": "8a03e6d3",
   "metadata": {},
   "outputs": [
    {
     "name": "stderr",
     "output_type": "stream",
     "text": [
      "2023-09-11 19:16:53.100478: I tensorflow/core/util/port.cc:110] oneDNN custom operations are on. You may see slightly different numerical results due to floating-point round-off errors from different computation orders. To turn them off, set the environment variable `TF_ENABLE_ONEDNN_OPTS=0`.\n",
      "2023-09-11 19:16:53.114897: I tensorflow/tsl/cuda/cudart_stub.cc:28] Could not find cuda drivers on your machine, GPU will not be used.\n",
      "2023-09-11 19:16:53.226990: I tensorflow/tsl/cuda/cudart_stub.cc:28] Could not find cuda drivers on your machine, GPU will not be used.\n",
      "2023-09-11 19:16:53.228433: I tensorflow/core/platform/cpu_feature_guard.cc:182] This TensorFlow binary is optimized to use available CPU instructions in performance-critical operations.\n",
      "To enable the following instructions: AVX2 AVX_VNNI FMA, in other operations, rebuild TensorFlow with the appropriate compiler flags.\n",
      "2023-09-11 19:16:53.991358: W tensorflow/compiler/tf2tensorrt/utils/py_utils.cc:38] TF-TRT Warning: Could not find TensorRT\n"
     ]
    }
   ],
   "source": [
    "# Computational Graph \n",
    "import tensorflow as tf\n",
    "w = tf.Variable(2.0, name='w', dtype=tf.float32)\n",
    "b = tf.Variable(1.0, name='b', dtype=tf.float32)\n",
    "x = tf.constant(3.0, name='x', dtype=tf.float32)\n"
   ]
  },
  {
   "cell_type": "code",
   "execution_count": 19,
   "id": "c0a6cc92",
   "metadata": {},
   "outputs": [
    {
     "ename": "SyntaxError",
     "evalue": "incomplete input (482394189.py, line 5)",
     "output_type": "error",
     "traceback": [
      "\u001b[0;36m  Cell \u001b[0;32mIn[19], line 5\u001b[0;36m\u001b[0m\n\u001b[0;31m    # grad_w, grad_b = tf.gradients(loss_val, [w, b])\u001b[0m\n\u001b[0m                                                     ^\u001b[0m\n\u001b[0;31mSyntaxError\u001b[0m\u001b[0;31m:\u001b[0m incomplete input\n"
     ]
    }
   ],
   "source": [
    "y = w * x + b\n",
    "y_true = tf.constant(7.0, name='y_true', dtype=tf.float32)\n",
    "loss_val = tf.abs(y_true - y)\n",
    "with tf.GradientTape() as tape:\n",
    "    # grad_w, grad_b = tf.gradients(loss_val, [w, b])"
   ]
  },
  {
   "cell_type": "code",
   "execution_count": null,
   "id": "c8ad738a",
   "metadata": {},
   "outputs": [],
   "source": []
  }
 ],
 "metadata": {
  "kernelspec": {
   "display_name": "Python 3",
   "language": "python",
   "name": "python3"
  },
  "language_info": {
   "codemirror_mode": {
    "name": "ipython",
    "version": 3
   },
   "file_extension": ".py",
   "mimetype": "text/x-python",
   "name": "python",
   "nbconvert_exporter": "python",
   "pygments_lexer": "ipython3",
   "version": "3.11.4"
  }
 },
 "nbformat": 4,
 "nbformat_minor": 5
}
