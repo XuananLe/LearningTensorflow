{
 "cells": [
  {
   "cell_type": "code",
   "execution_count": null,
   "id": "initial_id",
   "metadata": {
    "collapsed": true,
    "is_executing": true
   },
   "outputs": [],
   "source": [
    "import numpy as np"
   ]
  },
  {
   "cell_type": "code",
   "execution_count": null,
   "id": "265c8cb60b99875c",
   "metadata": {
    "collapsed": false,
    "is_executing": true
   },
   "outputs": [],
   "source": [
    "a = np.array([1, 2, 3])\n",
    "print(a.shape)  # (3,) mean 1D array with 3 elements\n",
    "b = np.array([(1.5, 2, 3), (4, 5, 6)], dtype=float)\n",
    "print(b.shape)\n",
    "c = np.array([[(1.5, 2, 3), (4, 5, 6)], [(3, 2, 1), (4, 5, 6)]], dtype=float)\n",
    "print(c.shape)\n"
   ]
  },
  {
   "cell_type": "code",
   "execution_count": 4,
   "id": "4b1095900ed953a7",
   "metadata": {
    "ExecuteTime": {
     "end_time": "2023-09-10T07:15:50.812158975Z",
     "start_time": "2023-09-10T07:15:50.811425152Z"
    },
    "collapsed": false
   },
   "outputs": [
    {
     "name": "stdout",
     "output_type": "stream",
     "text": [
      "[[0. 0. 0. 0.]\n",
      " [0. 0. 0. 0.]\n",
      " [0. 0. 0. 0.]]\n",
      "[[[1 1 1 1]\n",
      "  [1 1 1 1]\n",
      "  [1 1 1 1]]\n",
      "\n",
      " [[1 1 1 1]\n",
      "  [1 1 1 1]\n",
      "  [1 1 1 1]]]\n",
      "[[1. 0.]\n",
      " [0. 1.]]\n"
     ]
    },
    {
     "data": {
      "text/plain": [
       "array([[0.85262595, 0.18357908],\n",
       "       [0.80270695, 0.07204888]])"
      ]
     },
     "execution_count": 4,
     "metadata": {},
     "output_type": "execute_result"
    }
   ],
   "source": [
    "print(np.zeros((3, 4)))\n",
    "print(np.ones((2, 3, 4), dtype=np.int16))\n",
    "d = np.arange(10, 25, 5)  #Create an array of evenly spaced values (step value)\n",
    "np.linspace(0, 2, 9)  #Create an array of evenly spaced values (number of samples)\n",
    "e = np.full((2, 2), 7)  #Create a constant array\n",
    "f = np.eye(2)  #Create a 2X2 identity matrix\n",
    "print(f)\n",
    "np.random.random((2, 2))  #Create an array with random values\n"
   ]
  },
  {
   "cell_type": "code",
   "execution_count": 5,
   "id": "473cb81f078080c2",
   "metadata": {
    "ExecuteTime": {
     "end_time": "2023-09-10T07:15:50.812382992Z",
     "start_time": "2023-09-10T07:15:50.811629593Z"
    },
    "collapsed": false
   },
   "outputs": [
    {
     "name": "stdout",
     "output_type": "stream",
     "text": [
      "[[1.39069238e-309 1.39069238e-309]\n",
      " [1.39069238e-309 1.39069238e-309]\n",
      " [1.39069238e-309 1.39069238e-309]]\n"
     ]
    }
   ],
   "source": [
    "print(np.empty((3, 2)))  #Create an empty array"
   ]
  },
  {
   "cell_type": "code",
   "execution_count": 6,
   "id": "599599834f72b80a",
   "metadata": {
    "ExecuteTime": {
     "end_time": "2023-09-10T07:15:50.812613414Z",
     "start_time": "2023-09-10T07:15:50.811803853Z"
    },
    "collapsed": false
   },
   "outputs": [
    {
     "name": "stdout",
     "output_type": "stream",
     "text": [
      "[0 1 2 3 4 5 6 7 8 9]\n",
      "[[0 1 2 3 4]\n",
      " [5 6 7 8 9]]\n",
      "[[0 1]\n",
      " [2 3]\n",
      " [4 5]\n",
      " [6 7]\n",
      " [8 9]]\n",
      "[[0 1 2 3 4]\n",
      " [5 6 7 8 9]]\n",
      "[[0 1 2 3 4]\n",
      " [5 6 7 8 9]]\n",
      "[[[0 1 2 3 4]]\n",
      "\n",
      " [[5 6 7 8 9]]]\n",
      "[[0]\n",
      " [1]\n",
      " [2]\n",
      " [3]\n",
      " [4]\n",
      " [5]\n",
      " [6]\n",
      " [7]\n",
      " [8]\n",
      " [9]]\n",
      "[0 1 2 3 4 5 6 7 8 9]\n",
      "[[0 1 2 3 4 5 6 7 8 9]]\n"
     ]
    }
   ],
   "source": [
    "# reshape the array\n",
    "print(np.arange(10))\n",
    "print(np.arange(10).reshape(2, 5))\n",
    "print(np.arange(10).reshape(5, 2))\n",
    "print(np.arange(10).reshape(2, -1))  # -1 means \"whatever is needed\"\n",
    "print(np.arange(10).reshape(-1, 5))  # -1 means \"whatever is needed\"\n",
    "print(np.arange(10).reshape(2, 1, -1))  # -1 means \"whatever is needed\"\n",
    "print(np.arange(10).reshape(10,1))\n",
    " # flatten the array\n",
    "print(np.arange(10).flatten())\n",
    "print(np.arange(10).reshape(1,-1))"
   ]
  },
  {
   "cell_type": "code",
   "execution_count": 7,
   "id": "86c7238fc14b71ba",
   "metadata": {
    "ExecuteTime": {
     "end_time": "2023-09-10T07:15:50.812848748Z",
     "start_time": "2023-09-10T07:15:50.812054232Z"
    },
    "collapsed": false
   },
   "outputs": [
    {
     "name": "stdout",
     "output_type": "stream",
     "text": [
      "[[1.5 4. ]\n",
      " [2.  5. ]\n",
      " [3.  6. ]]\n"
     ]
    }
   ],
   "source": [
    "b = np.array([(1.5, 2, 3), (4, 5, 6)], dtype=float)\n",
    "i = np.transpose(b)\n",
    "print(i)"
   ]
  },
  {
   "cell_type": "code",
   "execution_count": null,
   "id": "8068409642ce6a43",
   "metadata": {
    "collapsed": false
   },
   "outputs": [],
   "source": []
  }
 ],
 "metadata": {
  "kernelspec": {
   "display_name": "Python 3",
   "language": "python",
   "name": "python3"
  },
  "language_info": {
   "codemirror_mode": {
    "name": "ipython",
    "version": 3
   },
   "file_extension": ".py",
   "mimetype": "text/x-python",
   "name": "python",
   "nbconvert_exporter": "python",
   "pygments_lexer": "ipython3",
   "version": "3.11.4"
  }
 },
 "nbformat": 4,
 "nbformat_minor": 5
}
