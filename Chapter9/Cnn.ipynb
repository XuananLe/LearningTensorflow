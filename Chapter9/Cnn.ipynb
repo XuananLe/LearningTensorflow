{
 "cells": [
  {
   "cell_type": "code",
   "execution_count": 1,
   "metadata": {},
   "outputs": [
    {
     "name": "stderr",
     "output_type": "stream",
     "text": [
      "2023-08-24 10:41:39.576768: I tensorflow/core/util/port.cc:110] oneDNN custom operations are on. You may see slightly different numerical results due to floating-point round-off errors from different computation orders. To turn them off, set the environment variable `TF_ENABLE_ONEDNN_OPTS=0`.\n",
      "2023-08-24 10:41:39.580163: I tensorflow/tsl/cuda/cudart_stub.cc:28] Could not find cuda drivers on your machine, GPU will not be used.\n",
      "2023-08-24 10:41:39.651618: I tensorflow/tsl/cuda/cudart_stub.cc:28] Could not find cuda drivers on your machine, GPU will not be used.\n",
      "2023-08-24 10:41:39.653966: I tensorflow/core/platform/cpu_feature_guard.cc:182] This TensorFlow binary is optimized to use available CPU instructions in performance-critical operations.\n",
      "To enable the following instructions: AVX2 AVX_VNNI FMA, in other operations, rebuild TensorFlow with the appropriate compiler flags.\n",
      "2023-08-24 10:41:41.682882: W tensorflow/compiler/tf2tensorrt/utils/py_utils.cc:38] TF-TRT Warning: Could not find TensorRT\n"
     ]
    }
   ],
   "source": []
  },
  {
   "cell_type": "code",
   "execution_count": 1,
   "metadata": {},
   "outputs": [
    {
     "name": "stdout",
     "output_type": "stream",
     "text": [
      "    xanh     đỏ\n",
      "0  False   True\n",
      "1   True  False\n",
      "2   True  False\n"
     ]
    }
   ],
   "source": [
    "import pandas as pd\n",
    "\n",
    "# Tạo DataFrame mẫu\n",
    "df = pd.DataFrame({\n",
    "    'Màu': ['đỏ', 'xanh', 'xanh']\n",
    "})\n",
    "\n",
    "# Thực hiện one-hot encoding\n",
    "encoded_df = pd.get_dummies(df, columns=['Màu'], prefix='', prefix_sep='')\n",
    "\n",
    "print(encoded_df)\n"
   ]
  },
  {
   "cell_type": "code",
   "execution_count": 3,
   "metadata": {
    "ExecuteTime": {
     "end_time": "2023-08-24T16:44:03.080384537Z",
     "start_time": "2023-08-24T16:44:03.065676200Z"
    }
   },
   "outputs": [],
   "source": [
    "\n",
    "from tensorflow import keras\n",
    "\n",
    "model = keras.Sequential([\n",
    "    layers.Conv2D(32, (3, 3), activation='relu', input_shape=(28, 28, 1)),\n",
    "])"
   ]
  },
  {
   "cell_type": "code",
   "execution_count": 7,
   "metadata": {
    "collapsed": false,
    "ExecuteTime": {
     "end_time": "2023-08-24T16:46:20.031525309Z",
     "start_time": "2023-08-24T16:46:19.983290935Z"
    }
   },
   "outputs": [
    {
     "name": "stdout",
     "output_type": "stream",
     "text": [
      "Original Image:\n",
      " [[[[10.]\n",
      "   [20.]\n",
      "   [30.]\n",
      "   [40.]\n",
      "   [50.]]\n",
      "\n",
      "  [[15.]\n",
      "   [25.]\n",
      "   [35.]\n",
      "   [45.]\n",
      "   [55.]]\n",
      "\n",
      "  [[20.]\n",
      "   [30.]\n",
      "   [40.]\n",
      "   [50.]\n",
      "   [60.]]\n",
      "\n",
      "  [[25.]\n",
      "   [35.]\n",
      "   [45.]\n",
      "   [55.]\n",
      "   [65.]]\n",
      "\n",
      "  [[30.]\n",
      "   [40.]\n",
      "   [50.]\n",
      "   [60.]\n",
      "   [70.]]]]\n",
      "\n",
      "Filter:\n",
      " [[[[ 1.]]\n",
      "\n",
      "  [[ 0.]]\n",
      "\n",
      "  [[-1.]]]\n",
      "\n",
      "\n",
      " [[[ 2.]]\n",
      "\n",
      "  [[ 0.]]\n",
      "\n",
      "  [[-2.]]]\n",
      "\n",
      "\n",
      " [[[ 1.]]\n",
      "\n",
      "  [[ 0.]]\n",
      "\n",
      "  [[-1.]]]]\n",
      "\n",
      "Result:\n",
      " [[[[-80.]\n",
      "   [-80.]\n",
      "   [-80.]]\n",
      "\n",
      "  [[-80.]\n",
      "   [-80.]\n",
      "   [-80.]]\n",
      "\n",
      "  [[-80.]\n",
      "   [-80.]\n",
      "   [-80.]]]]\n"
     ]
    }
   ],
   "source": [
    "import numpy as np\n",
    "import tensorflow as tf\n",
    "\n",
    "# Create a simple grayscale image (5x5)\n",
    "image = np.array([[10, 20, 30, 40, 50],\n",
    "                  [15, 25, 35, 45, 55],\n",
    "                  [20, 30, 40, 50, 60],\n",
    "                  [25, 35, 45, 55, 65],\n",
    "                  [30, 40, 50, 60, 70]], dtype=np.float32)\n",
    "\n",
    "# Create a simple filter (3x3)\n",
    "filter = np.array([[1, 0, -1],\n",
    "                   [2, 0, -2],\n",
    "                   [1, 0, -1]], dtype=np.float32)\n",
    "\n",
    "# Reshape the image and filter to match TensorFlow's requirements\n",
    "image = image.reshape(1, 5, 5, 1)\n",
    "filter = filter.reshape(3, 3, 1, 1)\n",
    "\n",
    "# Create TensorFlow tensors from the NumPy arrays\n",
    "image_tensor = tf.convert_to_tensor(image)\n",
    "filter_tensor = tf.convert_to_tensor(filter)\n",
    "\n",
    "# Perform filter multiplication using TensorFlow's convolution\n",
    "result = tf.nn.conv2d(image_tensor, filter_tensor, strides=[1, 1, 1, 1], padding='VALID')\n",
    "\n",
    "# Run a TensorFlow session to get the result\n",
    "print(\"Original Image:\\n\", image_tensor.numpy())\n",
    "print(\"\\nFilter:\\n\", filter_tensor.numpy())\n",
    "print(\"\\nResult:\\n\", result.numpy())"
   ]
  },
  {
   "cell_type": "code",
   "execution_count": 8,
   "outputs": [
    {
     "name": "stdout",
     "output_type": "stream",
     "text": [
      "Downloading data from https://storage.googleapis.com/tensorflow/keras-applications/vgg16/vgg16_weights_tf_dim_ordering_tf_kernels.h5\n",
      "553467096/553467096 [==============================] - 54s 0us/step\n",
      "Model: \"vgg16\"\n",
      "_________________________________________________________________\n",
      " Layer (type)                Output Shape              Param #   \n",
      "=================================================================\n",
      " input_1 (InputLayer)        [(None, 224, 224, 3)]     0         \n",
      "                                                                 \n",
      " block1_conv1 (Conv2D)       (None, 224, 224, 64)      1792      \n",
      "                                                                 \n",
      " block1_conv2 (Conv2D)       (None, 224, 224, 64)      36928     \n",
      "                                                                 \n",
      " block1_pool (MaxPooling2D)  (None, 112, 112, 64)      0         \n",
      "                                                                 \n",
      " block2_conv1 (Conv2D)       (None, 112, 112, 128)     73856     \n",
      "                                                                 \n",
      " block2_conv2 (Conv2D)       (None, 112, 112, 128)     147584    \n",
      "                                                                 \n",
      " block2_pool (MaxPooling2D)  (None, 56, 56, 128)       0         \n",
      "                                                                 \n",
      " block3_conv1 (Conv2D)       (None, 56, 56, 256)       295168    \n",
      "                                                                 \n",
      " block3_conv2 (Conv2D)       (None, 56, 56, 256)       590080    \n",
      "                                                                 \n",
      " block3_conv3 (Conv2D)       (None, 56, 56, 256)       590080    \n",
      "                                                                 \n",
      " block3_pool (MaxPooling2D)  (None, 28, 28, 256)       0         \n",
      "                                                                 \n",
      " block4_conv1 (Conv2D)       (None, 28, 28, 512)       1180160   \n",
      "                                                                 \n",
      " block4_conv2 (Conv2D)       (None, 28, 28, 512)       2359808   \n",
      "                                                                 \n",
      " block4_conv3 (Conv2D)       (None, 28, 28, 512)       2359808   \n",
      "                                                                 \n",
      " block4_pool (MaxPooling2D)  (None, 14, 14, 512)       0         \n",
      "                                                                 \n",
      " block5_conv1 (Conv2D)       (None, 14, 14, 512)       2359808   \n",
      "                                                                 \n",
      " block5_conv2 (Conv2D)       (None, 14, 14, 512)       2359808   \n",
      "                                                                 \n",
      " block5_conv3 (Conv2D)       (None, 14, 14, 512)       2359808   \n",
      "                                                                 \n",
      " block5_pool (MaxPooling2D)  (None, 7, 7, 512)         0         \n",
      "                                                                 \n",
      " flatten (Flatten)           (None, 25088)             0         \n",
      "                                                                 \n",
      " fc1 (Dense)                 (None, 4096)              102764544 \n",
      "                                                                 \n",
      " fc2 (Dense)                 (None, 4096)              16781312  \n",
      "                                                                 \n",
      " predictions (Dense)         (None, 1000)              4097000   \n",
      "                                                                 \n",
      "=================================================================\n",
      "Total params: 138357544 (527.79 MB)\n",
      "Trainable params: 138357544 (527.79 MB)\n",
      "Non-trainable params: 0 (0.00 Byte)\n",
      "_________________________________________________________________\n"
     ]
    }
   ],
   "source": [
    "# load vgg model\n",
    "from keras.applications.vgg16 import VGG16\n",
    "# load the model\n",
    "model = VGG16()\n",
    "# summarize the model\n",
    "model.summary()"
   ],
   "metadata": {
    "collapsed": false,
    "ExecuteTime": {
     "end_time": "2023-08-24T16:49:03.472048797Z",
     "start_time": "2023-08-24T16:48:07.301721868Z"
    }
   }
  },
  {
   "cell_type": "code",
   "execution_count": 4,
   "outputs": [
    {
     "data": {
      "text/plain": "<Figure size 800x400 with 2 Axes>",
      "image/png": "[encoded data removed]"
     },
     "metadata": {},
     "output_type": "display_data"
    }
   ],
   "source": [
    "import numpy as np\n",
    "import matplotlib.pyplot as plt\n",
    "\n",
    "# Create a simple grayscale image (5x5)\n",
    "image = np.array([[10, 20, 30, 40, 50],\n",
    "                  [15, 25, 35, 45, 55],\n",
    "                  [20, 30, 40, 50, 60],\n",
    "                  [25, 35, 45, 55, 65],\n",
    "                  [30, 40, 50, 60, 70]], dtype=np.float32)\n",
    "\n",
    "# Add padding of size 1 to the image\n",
    "padded_image = np.pad(image, ((1, 1), (1, 1)), mode='constant', constant_values=0)\n",
    "\n",
    "# Visualize the original and padded images using matplotlib\n",
    "plt.figure(figsize=(8, 4))\n",
    "\n",
    "plt.subplot(1, 2, 1)\n",
    "plt.imshow(image, cmap='gray')\n",
    "plt.title(\"Original Image\")\n",
    "plt.axis('off')\n",
    "\n",
    "plt.subplot(1, 2, 2)\n",
    "plt.imshow(padded_image, cmap='gray')\n",
    "plt.title(\"Padded Image\")\n",
    "plt.axis('off')\n",
    "\n",
    "plt.tight_layout()\n",
    "plt.show()\n"
   ],
   "metadata": {
    "collapsed": false,
    "ExecuteTime": {
     "end_time": "2023-08-24T17:03:43.096246973Z",
     "start_time": "2023-08-24T17:03:43.028937816Z"
    }
   }
  }
 ],
 "metadata": {
  "kernelspec": {
   "display_name": "venv",
   "language": "python",
   "name": "python3"
  },
  "language_info": {
   "codemirror_mode": {
    "name": "ipython",
    "version": 3
   },
   "file_extension": ".py",
   "mimetype": "text/x-python",
   "name": "python",
   "nbconvert_exporter": "python",
   "pygments_lexer": "ipython3",
   "version": "3.11.4"
  },
  "orig_nbformat": 4
 },
 "nbformat": 4,
 "nbformat_minor": 2
}
