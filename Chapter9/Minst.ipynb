{
 "cells": [
  {
   "cell_type": "code",
   "execution_count": 1,
   "id": "initial_id",
   "metadata": {
    "collapsed": true,
    "ExecuteTime": {
     "end_time": "2023-08-30T10:13:08.434435283Z",
     "start_time": "2023-08-30T10:13:06.230639526Z"
    }
   },
   "outputs": [
    {
     "name": "stderr",
     "output_type": "stream",
     "text": [
      "2023-08-30 17:13:06.398306: I tensorflow/core/util/port.cc:110] oneDNN custom operations are on. You may see slightly different numerical results due to floating-point round-off errors from different computation orders. To turn them off, set the environment variable `TF_ENABLE_ONEDNN_OPTS=0`.\n",
      "2023-08-30 17:13:06.412057: I tensorflow/tsl/cuda/cudart_stub.cc:28] Could not find cuda drivers on your machine, GPU will not be used.\n",
      "2023-08-30 17:13:06.518894: I tensorflow/tsl/cuda/cudart_stub.cc:28] Could not find cuda drivers on your machine, GPU will not be used.\n",
      "2023-08-30 17:13:06.519463: I tensorflow/core/platform/cpu_feature_guard.cc:182] This TensorFlow binary is optimized to use available CPU instructions in performance-critical operations.\n",
      "To enable the following instructions: AVX2 AVX_VNNI FMA, in other operations, rebuild TensorFlow with the appropriate compiler flags.\n",
      "2023-08-30 17:13:07.365404: W tensorflow/compiler/tf2tensorrt/utils/py_utils.cc:38] TF-TRT Warning: Could not find TensorRT\n"
     ]
    }
   ],
   "source": [
    "import tensorflow as tf\n",
    "from tensorflow import keras\n",
    "import matplotlib.pyplot as plt"
   ]
  },
  {
   "cell_type": "code",
   "execution_count": 2,
   "outputs": [
    {
     "name": "stdout",
     "output_type": "stream",
     "text": [
      "60000\n",
      "10000\n"
     ]
    }
   ],
   "source": [
    "(X_train, y_train), (X_test, y_test) = keras.datasets.mnist.load_data()\n",
    "(X_train, y_train), (X_test, y_test) = keras.datasets.mnist.load_data()\n",
    "print(len(X_train))\n",
    "print(len(X_test))"
   ],
   "metadata": {
    "collapsed": false,
    "ExecuteTime": {
     "end_time": "2023-08-30T10:13:08.801719512Z",
     "start_time": "2023-08-30T10:13:08.426234744Z"
    }
   },
   "id": "b2e216fb481176c1"
  },
  {
   "cell_type": "code",
   "execution_count": 3,
   "outputs": [
    {
     "name": "stdout",
     "output_type": "stream",
     "text": [
      "(28, 28)\n",
      "()\n"
     ]
    },
    {
     "ename": "ValueError",
     "evalue": "setting an array element with a sequence. The requested array has an inhomogeneous shape after 1 dimensions. The detected shape was (2,) + inhomogeneous part.",
     "output_type": "error",
     "traceback": [
      "\u001B[0;31m---------------------------------------------------------------------------\u001B[0m",
      "\u001B[0;31mValueError\u001B[0m                                Traceback (most recent call last)",
      "Cell \u001B[0;32mIn[3], line 8\u001B[0m\n\u001B[1;32m      5\u001B[0m X_train \u001B[38;5;241m=\u001B[39m X_train\u001B[38;5;241m.\u001B[39mreshape(\u001B[38;5;28mlen\u001B[39m(X_train), \u001B[38;5;241m28\u001B[39m \u001B[38;5;241m*\u001B[39m \u001B[38;5;241m28\u001B[39m)\n\u001B[1;32m      6\u001B[0m X_test \u001B[38;5;241m=\u001B[39m X_test\u001B[38;5;241m.\u001B[39mreshape(\u001B[38;5;28mlen\u001B[39m(X_test), \u001B[38;5;241m28\u001B[39m \u001B[38;5;241m*\u001B[39m \u001B[38;5;241m28\u001B[39m)\n\u001B[0;32m----> 8\u001B[0m \u001B[43mplt\u001B[49m\u001B[38;5;241;43m.\u001B[39;49m\u001B[43mmatshow\u001B[49m\u001B[43m(\u001B[49m\u001B[43m[\u001B[49m\u001B[43mX_train\u001B[49m\u001B[43m[\u001B[49m\u001B[38;5;241;43m0\u001B[39;49m\u001B[43m]\u001B[49m\u001B[43m,\u001B[49m\u001B[38;5;241;43m1\u001B[39;49m\u001B[43m]\u001B[49m\u001B[43m)\u001B[49m\n",
      "File \u001B[0;32m~/Documents/LearningTensorflow/venv/lib/python3.11/site-packages/matplotlib/pyplot.py:2242\u001B[0m, in \u001B[0;36mmatshow\u001B[0;34m(A, fignum, **kwargs)\u001B[0m\n\u001B[1;32m   2203\u001B[0m \u001B[38;5;28;01mdef\u001B[39;00m \u001B[38;5;21mmatshow\u001B[39m(A, fignum\u001B[38;5;241m=\u001B[39m\u001B[38;5;28;01mNone\u001B[39;00m, \u001B[38;5;241m*\u001B[39m\u001B[38;5;241m*\u001B[39mkwargs):\n\u001B[1;32m   2204\u001B[0m \u001B[38;5;250m    \u001B[39m\u001B[38;5;124;03m\"\"\"\u001B[39;00m\n\u001B[1;32m   2205\u001B[0m \u001B[38;5;124;03m    Display an array as a matrix in a new figure window.\u001B[39;00m\n\u001B[1;32m   2206\u001B[0m \n\u001B[0;32m   (...)\u001B[0m\n\u001B[1;32m   2240\u001B[0m \n\u001B[1;32m   2241\u001B[0m \u001B[38;5;124;03m    \"\"\"\u001B[39;00m\n\u001B[0;32m-> 2242\u001B[0m     A \u001B[38;5;241m=\u001B[39m \u001B[43mnp\u001B[49m\u001B[38;5;241;43m.\u001B[39;49m\u001B[43masanyarray\u001B[49m\u001B[43m(\u001B[49m\u001B[43mA\u001B[49m\u001B[43m)\u001B[49m\n\u001B[1;32m   2243\u001B[0m     \u001B[38;5;28;01mif\u001B[39;00m fignum \u001B[38;5;241m==\u001B[39m \u001B[38;5;241m0\u001B[39m:\n\u001B[1;32m   2244\u001B[0m         ax \u001B[38;5;241m=\u001B[39m gca()\n",
      "\u001B[0;31mValueError\u001B[0m: setting an array element with a sequence. The requested array has an inhomogeneous shape after 1 dimensions. The detected shape was (2,) + inhomogeneous part."
     ]
    },
    {
     "data": {
      "text/plain": "<Figure size 480x480 with 1 Axes>",
      "image/png": "[encoded data removed]"
     },
     "metadata": {},
     "output_type": "display_data"
    }
   ],
   "source": [
    "plt.matshow(X_train[0])\n",
    "print(X_train[0].shape)\n",
    "print(y_train[0].shape)\n",
    "\n",
    "X_train = X_train.reshape(len(X_train), 28 * 28)\n",
    "X_test = X_test.reshape(len(X_test), 28 * 28)\n",
    "\n",
    "plt.matshow([X_train[0],1])\n"
   ],
   "metadata": {
    "collapsed": false,
    "ExecuteTime": {
     "end_time": "2023-08-30T10:13:09.119787417Z",
     "start_time": "2023-08-30T10:13:08.793662953Z"
    }
   },
   "id": "8fd5b8b706687fce"
  },
  {
   "cell_type": "code",
   "execution_count": 4,
   "outputs": [
    {
     "name": "stdout",
     "output_type": "stream",
     "text": [
      "Epoch 1/10\n",
      "375/375 [==============================] - 2s 4ms/step - loss: 0.4571 - accuracy: 0.8661 - val_loss: 0.2362 - val_accuracy: 0.9312\n",
      "Epoch 2/10\n",
      "375/375 [==============================] - 1s 3ms/step - loss: 0.2648 - accuracy: 0.9211 - val_loss: 0.1901 - val_accuracy: 0.9448\n",
      "Epoch 3/10\n",
      "375/375 [==============================] - 1s 3ms/step - loss: 0.2162 - accuracy: 0.9355 - val_loss: 0.1622 - val_accuracy: 0.9535\n",
      "Epoch 4/10\n",
      "375/375 [==============================] - 1s 3ms/step - loss: 0.1844 - accuracy: 0.9454 - val_loss: 0.1444 - val_accuracy: 0.9578\n",
      "Epoch 5/10\n",
      "375/375 [==============================] - 1s 3ms/step - loss: 0.1644 - accuracy: 0.9503 - val_loss: 0.1356 - val_accuracy: 0.9597\n",
      "Epoch 6/10\n",
      "375/375 [==============================] - 1s 3ms/step - loss: 0.1452 - accuracy: 0.9566 - val_loss: 0.1232 - val_accuracy: 0.9630\n",
      "Epoch 7/10\n",
      "375/375 [==============================] - 1s 3ms/step - loss: 0.1342 - accuracy: 0.9589 - val_loss: 0.1145 - val_accuracy: 0.9647\n",
      "Epoch 8/10\n",
      "375/375 [==============================] - 1s 3ms/step - loss: 0.1203 - accuracy: 0.9626 - val_loss: 0.1117 - val_accuracy: 0.9680\n",
      "Epoch 9/10\n",
      "375/375 [==============================] - 1s 3ms/step - loss: 0.1145 - accuracy: 0.9647 - val_loss: 0.1030 - val_accuracy: 0.9693\n",
      "Epoch 10/10\n",
      "375/375 [==============================] - 1s 3ms/step - loss: 0.1083 - accuracy: 0.9661 - val_loss: 0.0996 - val_accuracy: 0.9686\n"
     ]
    },
    {
     "data": {
      "text/plain": "<keras.src.callbacks.History at 0x7f5dd1b355d0>"
     },
     "execution_count": 4,
     "metadata": {},
     "output_type": "execute_result"
    }
   ],
   "source": [
    "import keras\n",
    "from keras.datasets import mnist\n",
    "# Normalize pixel values\n",
    "X_train = X_train.astype('float32') / 255\n",
    "X_test = X_test.astype('float32') / 255\n",
    "\n",
    "model = keras.Sequential([\n",
    "    keras.layers.Dense(128, input_shape=(784,), activation='tanh'),\n",
    "    keras.layers.Dropout(0.2),\n",
    "    keras.layers.Dense(64, activation='tanh'),\n",
    "    keras.layers.Dropout(0.2),\n",
    "    keras.layers.Dense(10, activation='softmax')\n",
    "])\n",
    "model.compile(optimizer='adam',\n",
    "              loss='sparse_categorical_crossentropy',\n",
    "              metrics=['accuracy'])\n",
    "model.fit(X_train, y_train, epochs=10, batch_size=128, validation_split=0.2)\n"
   ],
   "metadata": {
    "collapsed": false,
    "ExecuteTime": {
     "end_time": "2023-08-30T10:13:24.879609772Z",
     "start_time": "2023-08-30T10:13:11.252369202Z"
    }
   },
   "id": "c90a59d9e4a30846"
  },
  {
   "cell_type": "code",
   "execution_count": 5,
   "outputs": [
    {
     "name": "stdout",
     "output_type": "stream",
     "text": [
      "Layer: dense\n",
      "Weights 0 shape: (784, 128)\n",
      "Weights 0: [[-0.07956477 -0.02954966  0.05913687 ... -0.06773224  0.04596674\n",
      "   0.07891393]\n",
      " [ 0.04427304  0.03897247 -0.0408422  ... -0.01301537 -0.01338197\n",
      "  -0.04207428]\n",
      " [-0.06881492  0.06123117  0.0596358  ... -0.01239297 -0.02175242\n",
      "  -0.00943436]\n",
      " ...\n",
      " [ 0.04662026  0.05557057 -0.07499894 ...  0.06006043 -0.02034188\n",
      "  -0.07866573]\n",
      " [ 0.07188379  0.03563822 -0.02546142 ... -0.0703444   0.04622179\n",
      "  -0.01677379]\n",
      " [ 0.03263328  0.00619089 -0.00345422 ...  0.02390351 -0.01050412\n",
      "  -0.00390285]]\n",
      "Weights 1 shape: (128,)\n",
      "Weights 1: [ 2.03653630e-02 -1.19494557e-01  1.27030253e-01  8.93330649e-02\n",
      " -1.15235768e-01  3.59972604e-02  6.02030419e-02  1.14031240e-01\n",
      " -2.79960465e-02 -1.50629669e-01  2.58521497e-01 -1.43905908e-01\n",
      " -2.39637848e-02 -6.20706044e-02  9.52830762e-02 -5.22117177e-03\n",
      " -4.50317487e-02 -1.80829376e-01  1.35753797e-02  2.61862278e-02\n",
      "  1.06262557e-01  5.10925381e-03  1.17764045e-02 -2.33910494e-02\n",
      " -1.08620994e-01 -6.69938773e-02 -1.71929926e-01  3.95924598e-02\n",
      " -1.37552604e-01 -1.06739916e-01 -1.68357462e-01  5.61845526e-02\n",
      " -9.47873518e-02 -1.12245241e-02 -7.94186220e-02  1.40514737e-02\n",
      " -1.81306321e-02 -2.51479857e-02  7.98609927e-02  2.00846031e-01\n",
      "  9.33437422e-02 -9.52558294e-02 -7.45455995e-02  1.92381889e-01\n",
      " -1.01469666e-01 -1.35716153e-02 -1.02300256e-01 -9.27700475e-03\n",
      "  1.15951732e-01 -8.64813700e-02 -7.11420029e-02  7.45719671e-02\n",
      " -9.99394618e-03  2.19550803e-02  2.85413451e-02 -3.10741533e-02\n",
      "  1.39942989e-01 -2.20668986e-01  3.06123607e-02 -4.51253057e-02\n",
      " -2.83040404e-02  8.23152661e-02  7.02765808e-02  1.43156022e-01\n",
      "  1.89463124e-01 -1.62392750e-01  6.66327700e-02  5.80258388e-03\n",
      " -9.08223912e-02 -1.31172780e-02  6.02503158e-02  3.59430872e-02\n",
      " -3.74440998e-02  1.46055907e-01  8.68234858e-02  8.31863135e-02\n",
      " -1.69940293e-02  5.25157675e-02  1.64594837e-02 -1.22570828e-01\n",
      " -9.04212818e-02 -1.05548836e-01 -7.86197037e-02  8.98041204e-03\n",
      " -1.09062910e-01 -3.33753414e-02  1.62454098e-02 -2.26108178e-01\n",
      " -8.05374384e-02  1.37260973e-01  1.51245549e-01  1.03456803e-01\n",
      "  1.55780345e-01  1.29560212e-04 -9.14831087e-02  1.04188234e-01\n",
      "  2.38866638e-02  2.48699225e-02 -9.00933221e-02  7.73364007e-02\n",
      " -7.82281607e-02  1.63653225e-01  2.92386748e-02  5.72579838e-02\n",
      " -9.32463910e-03 -6.14178590e-02  1.28798127e-01 -8.84801000e-02\n",
      " -1.27544209e-01 -9.67835262e-02  1.19771451e-01  3.11389659e-02\n",
      " -4.01040688e-02  2.56555602e-02  2.60105613e-03 -2.34914292e-02\n",
      "  1.05018571e-01 -3.43070552e-02 -6.68376498e-03  1.62636623e-01\n",
      " -2.79881600e-02  1.10256225e-01  1.46291867e-01  1.31354049e-01\n",
      " -1.41271502e-01  1.86416432e-01 -3.75136659e-02 -1.52759224e-01]\n",
      "Layer: dense_1\n",
      "Weights 0 shape: (128, 64)\n",
      "Weights 0: [[ 0.2817377  -0.11655378 -0.14038612 ...  0.16018489 -0.04925392\n",
      "   0.33333054]\n",
      " [-0.05757852 -0.3313642   0.13946824 ... -0.15807028 -0.23639432\n",
      "   0.24072537]\n",
      " [ 0.0206896   0.23950654  0.21891016 ...  0.01136914  0.13741374\n",
      "  -0.01503339]\n",
      " ...\n",
      " [ 0.08098821  0.17883238 -0.06856149 ...  0.2442083  -0.00871795\n",
      "  -0.14658216]\n",
      " [-0.02515276  0.03153117  0.05835014 ... -0.02871517 -0.06780946\n",
      "  -0.20396718]\n",
      " [ 0.12627585 -0.14287354  0.09193989 ...  0.08577959  0.04480169\n",
      "   0.26563293]]\n",
      "Weights 1 shape: (64,)\n",
      "Weights 1: [ 0.07137925  0.17528687 -0.09219202  0.07103021 -0.09295771 -0.03650483\n",
      " -0.09664939  0.0103603   0.20225814  0.17983244  0.14898731 -0.15078065\n",
      "  0.10852228  0.02147211  0.02827425  0.07051992  0.20275322  0.07731335\n",
      " -0.19004816  0.11006433  0.07789945  0.19297528 -0.07443326  0.11630428\n",
      "  0.03103543 -0.01863437 -0.047764    0.01986077  0.15494424  0.020113\n",
      "  0.08295692  0.22694494  0.04837592  0.08188163 -0.12408386  0.17188793\n",
      "  0.05660326  0.07446829  0.01391458 -0.20593314  0.14712334 -0.10526279\n",
      " -0.06811784  0.05785885  0.05514384  0.01655246 -0.05215715 -0.14404613\n",
      " -0.0845777   0.23810673 -0.03142604 -0.16413824 -0.10997547 -0.11256838\n",
      "  0.07437979  0.16164276 -0.07230571  0.1713896   0.06726534 -0.05682093\n",
      " -0.11441682  0.10736068  0.0016233  -0.06564091]\n",
      "Layer: dense_2\n",
      "Weights 0 shape: (64, 10)\n",
      "Weights 0: [[ 0.33554718  0.1861594   0.44698113  0.25064462 -0.20283733 -0.35337618\n",
      "  -0.2992939   0.14242981 -0.39406282 -0.1062122 ]\n",
      " [-0.15955503 -0.19692667 -0.09664098 -0.10169691  0.17800969  0.25221488\n",
      "  -0.44824702 -0.02980431 -0.279564    0.36704051]\n",
      " [ 0.39583668 -0.12171862 -0.26342165 -0.14942773  0.4396023  -0.09961551\n",
      "  -0.26312247  0.2827758   0.12567808  0.14727542]\n",
      " [-0.3736524   0.03591438 -0.186449    0.31834292 -0.16165644  0.3181021\n",
      "  -0.39169538  0.19299483  0.24092188 -0.13695656]\n",
      " [-0.1338904   0.30316237  0.2552099  -0.01339661 -0.05012752 -0.39320588\n",
      "  -0.11153822 -0.03583682  0.13423651  0.35255983]\n",
      " [ 0.0992631  -0.39414975  0.23286654 -0.3152348  -0.00292181  0.3578778\n",
      "   0.14701822 -0.15613908  0.24674934 -0.22012089]\n",
      " [-0.06993594 -0.16630329 -0.5528034   0.3736232   0.12402652  0.18890183\n",
      "  -0.34228373 -0.00598263  0.03063301  0.248465  ]\n",
      " [-0.21234109 -0.11648623  0.41598234  0.2985092   0.11302397  0.42496952\n",
      "  -0.2709587  -0.16967393  0.18903382 -0.15607896]\n",
      " [-0.6096671  -0.1696115   0.14694647  0.20720452  0.26911888  0.27893716\n",
      "   0.16201341  0.0778925  -0.05180006  0.0695895 ]\n",
      " [ 0.3817359  -0.36907783  0.11777204  0.18209566 -0.02153105  0.14076354\n",
      "  -0.3605273   0.33740726 -0.31565484 -0.02928486]\n",
      " [ 0.17851683  0.3801412  -0.23630334  0.12321565 -0.44233695  0.17135426\n",
      "  -0.1087592   0.32455784  0.1869572  -0.23480316]\n",
      " [-0.05187322  0.22596575  0.2505809   0.33490616  0.25509617 -0.56626934\n",
      "  -0.45441484  0.07816938  0.23883113  0.2496527 ]\n",
      " [-0.42417476  0.5350834   0.15251048  0.06460956 -0.19375856  0.00416031\n",
      "  -0.23563808  0.15575564  0.03431559  0.4145937 ]\n",
      " [-0.06522379 -0.19059189  0.2791998   0.0331052  -0.20430927 -0.21936345\n",
      "   0.36860353 -0.3308876  -0.30960253  0.13066317]\n",
      " [-0.24860908  0.02260986  0.37429976  0.01211167  0.35933793 -0.3778044\n",
      "  -0.24986401  0.29790807  0.37156385  0.3299251 ]\n",
      " [ 0.4691761   0.4330985   0.19845462  0.09745653 -0.13636301 -0.08978193\n",
      "   0.40831292 -0.50720274 -0.23233525 -0.2280524 ]\n",
      " [-0.45993987  0.269337   -0.02185052 -0.26723748  0.26108858  0.42295602\n",
      "  -0.33833498  0.09123094 -0.19106735 -0.31489712]\n",
      " [-0.3554909   0.41134     0.24027511  0.13638544 -0.19734058 -0.3139433\n",
      "  -0.41593778 -0.06081201 -0.2864537  -0.29489848]\n",
      " [-0.16497943 -0.00548478  0.0287467  -0.2343119   0.25611117 -0.37882832\n",
      "   0.17610373 -0.30902296  0.34300622  0.23610441]\n",
      " [-0.15683065 -0.3378365  -0.3579671  -0.30780926  0.25110528 -0.1242152\n",
      "   0.11382806  0.47203165 -0.2119766  -0.08214065]\n",
      " [-0.33425367  0.22904436  0.15617836  0.01965761 -0.18200362  0.40424535\n",
      "  -0.26563177 -0.4417451   0.06499005  0.0219622 ]\n",
      " [-0.11837713  0.3383258  -0.41658902  0.27131695 -0.05147522  0.12785125\n",
      "  -0.29097944  0.39302787 -0.26173577  0.12676649]\n",
      " [ 0.3981288  -0.2780926  -0.18957613 -0.4588103   0.21550372 -0.14006495\n",
      "  -0.09710199 -0.02074457 -0.07613845  0.31723765]\n",
      " [ 0.05370572  0.07582206  0.19417489  0.08540917 -0.38418627 -0.1133749\n",
      "  -0.5383696  -0.0509691  -0.2588575   0.21573971]\n",
      " [ 0.02425817  0.04898454 -0.20209102 -0.22429453 -0.01580915  0.36701456\n",
      "  -0.32283518  0.08420387  0.17622906  0.43741632]\n",
      " [ 0.07874652 -0.33216769  0.17908779  0.2666314  -0.26810595  0.17011026\n",
      "  -0.42907947 -0.01712727  0.26707697  0.23447452]\n",
      " [-0.10674894 -0.28428888  0.46212798 -0.04781454 -0.38717487 -0.14732091\n",
      "   0.06781945 -0.31234178  0.04550725 -0.04937419]\n",
      " [ 0.25901935  0.25155684 -0.08385215  0.17708105 -0.23825331 -0.31239745\n",
      "   0.08536768  0.41816545 -0.03439761 -0.13550314]\n",
      " [-0.30590448  0.475159    0.34035686 -0.3900503   0.04999524  0.08292766\n",
      "   0.15543345  0.22951922  0.00585911 -0.1605857 ]\n",
      " [ 0.39300227  0.20825477  0.36256018 -0.20637704 -0.26569715 -0.16470948\n",
      "  -0.4081194   0.27249682 -0.05028556 -0.25486484]\n",
      " [-0.1356037   0.28266904 -0.31369743 -0.20167705  0.44126147  0.09741849\n",
      "  -0.08540654  0.43109918 -0.11067586 -0.21517071]\n",
      " [ 0.3205829   0.45603073  0.4391438  -0.20117514 -0.00770793  0.27329776\n",
      "   0.02573224 -0.32560772 -0.2346814  -0.15335074]\n",
      " [-0.17608629  0.43938193 -0.1058168   0.26357964 -0.04234636  0.00890768\n",
      "   0.2956945  -0.27006987 -0.0919361  -0.42602482]\n",
      " [ 0.15232794 -0.24073032 -0.20603536  0.10664654 -0.35792577  0.05964328\n",
      "  -0.33923897  0.07017295 -0.34535027  0.32058954]\n",
      " [ 0.40930596 -0.17291647  0.07932732 -0.07058403  0.26204023 -0.13883711\n",
      "   0.40277827 -0.33420607 -0.11516654  0.24058598]\n",
      " [ 0.20378917 -0.26705024  0.11476806  0.2926825   0.08061235  0.18002827\n",
      "  -0.16278875  0.46776536 -0.17441797 -0.06766935]\n",
      " [-0.1487356   0.08254298  0.02885718 -0.13760324 -0.31314483 -0.3867849\n",
      "   0.21384233  0.34760758 -0.12582557  0.19942628]\n",
      " [-0.33020318 -0.20473237  0.30039     0.2786309   0.22285394 -0.48581553\n",
      "  -0.26600096  0.20699689 -0.31132165  0.08222796]\n",
      " [ 0.02693108 -0.33770326  0.22016107  0.37008253  0.12374564 -0.42515704\n",
      "  -0.43830696  0.3388648  -0.09577776 -0.0007004 ]\n",
      " [-0.2554025   0.17362426 -0.40679175  0.15039243  0.09319758 -0.10526311\n",
      "  -0.37416458 -0.33189932  0.24060321  0.18172036]\n",
      " [ 0.09933775  0.44808707 -0.2747547   0.04405086  0.24317077  0.20022853\n",
      "   0.2834319  -0.1309054  -0.19395036 -0.46160853]\n",
      " [-0.258588   -0.35812524  0.05812649  0.40867087 -0.20494705 -0.1634201\n",
      "  -0.31044453  0.29533723  0.22534649  0.02764795]\n",
      " [ 0.13189557  0.46770355  0.32787162  0.13168187 -0.29522774  0.06078288\n",
      "  -0.08910716  0.05651264  0.44438568 -0.45269743]\n",
      " [ 0.11215048 -0.1233818  -0.0204995  -0.09099656  0.1861599  -0.28079742\n",
      "   0.03041704  0.39133725 -0.31071654  0.27363214]\n",
      " [ 0.29109794  0.60866916 -0.25967506  0.09102996 -0.06671643  0.03821572\n",
      "  -0.15155263 -0.24314822 -0.1950581  -0.12312992]\n",
      " [-0.50143653 -0.33092403 -0.20070064  0.2787716   0.25923154  0.26146454\n",
      "  -0.0729886  -0.2725944  -0.13269594  0.06477685]\n",
      " [ 0.31461418 -0.4895397  -0.06936011 -0.34080845 -0.25024268  0.262791\n",
      "   0.37034672  0.04363751  0.09988991 -0.47380698]\n",
      " [ 0.0219279  -0.29881877  0.32230294 -0.33003208  0.4394051  -0.21093027\n",
      "   0.20741007 -0.31114572  0.15049572 -0.18048622]\n",
      " [ 0.06534055 -0.22291285 -0.02474808  0.21864228 -0.30239636  0.1775744\n",
      "   0.15318717  0.12521279  0.5232883   0.18932097]\n",
      " [-0.33455834  0.09001789 -0.13145177  0.14311802 -0.19672354  0.3911993\n",
      "  -0.34755397  0.16221501 -0.3921621   0.08617987]\n",
      " [-0.25704393 -0.02706064 -0.41661832  0.37246308  0.02694395  0.30548757\n",
      "   0.31449223 -0.05912606  0.36982176 -0.01660802]\n",
      " [ 0.25039506 -0.06411929 -0.4076028   0.01816924 -0.27596816  0.34483755\n",
      "   0.23213838 -0.33516946  0.33916265  0.3572597 ]\n",
      " [ 0.23046379  0.18671033 -0.3397512  -0.47789666  0.19312191 -0.30231836\n",
      "  -0.04446416 -0.17624043  0.2096401   0.320991  ]\n",
      " [-0.04519128  0.5294543  -0.2469581   0.23812667  0.29264867  0.2661792\n",
      "   0.10535791 -0.12393551  0.3594166   0.38146865]\n",
      " [ 0.09624304 -0.20389558 -0.31889793  0.2084362  -0.35862374  0.32555112\n",
      "   0.21730393 -0.03498767 -0.33827427 -0.17309669]\n",
      " [-0.05113655  0.25621787  0.04513438 -0.15793926  0.29110694 -0.04159231\n",
      "  -0.36467338  0.30123368 -0.45414963  0.28972858]\n",
      " [-0.01445838 -0.29189256  0.2745502   0.26702502 -0.36857373  0.12868278\n",
      "  -0.05387101 -0.43810588  0.33302498 -0.296844  ]\n",
      " [ 0.2109549  -0.19460678 -0.0524762  -0.26360932  0.3747086   0.01025751\n",
      "  -0.04512808  0.02455988 -0.35504353  0.40381205]\n",
      " [ 0.3481397  -0.4755198  -0.37058946  0.10428083 -0.2349663   0.31972057\n",
      "  -0.03196382  0.18072379 -0.20425087  0.19797918]\n",
      " [ 0.16277093 -0.27797478  0.1702022   0.11090606  0.3651703   0.20249744\n",
      "   0.12020663 -0.412663    0.21682353 -0.28097668]\n",
      " [ 0.06398965 -0.3517977  -0.4443143   0.06533266  0.21507545 -0.0772034\n",
      "  -0.32525036 -0.12866595  0.24607912  0.20466769]\n",
      " [ 0.14038377  0.34346855  0.07233593  0.2640587  -0.27391225  0.2527408\n",
      "  -0.35664776  0.23067048  0.1914093  -0.2835177 ]\n",
      " [ 0.03891917 -0.43879282 -0.08367566 -0.0073104   0.15932836  0.3201053\n",
      "  -0.41658542 -0.4643023  -0.10424505  0.28263023]\n",
      " [-0.1268373   0.31247568  0.3192796   0.29539984 -0.20859914 -0.31621358\n",
      "  -0.14672601 -0.301709    0.20847099  0.29158255]]\n",
      "Weights 1 shape: (10,)\n",
      "Weights 1: [-1.3330470e-01  1.2377241e-01  1.1079745e-01  1.2666661e-04\n",
      "  2.7191905e-02  1.3920842e-01 -1.1848260e-01  1.7903732e-01\n",
      " -2.3892389e-01 -4.9338978e-02]\n",
      "313/313 [==============================] - 0s 1ms/step - loss: 0.0908 - accuracy: 0.9729\n",
      "[0.0908055379986763, 0.9728999733924866]\n"
     ]
    }
   ],
   "source": [
    "# model.predict(X_test.round(3))\n",
    "layers = model.layers\n",
    "\n",
    "# Xem các trọng số và độ lệch của các layer\n",
    "for layer in layers:\n",
    "    weights = layer.get_weights()\n",
    "    if len(weights) > 0:\n",
    "        print(\"Layer:\", layer.name)\n",
    "        for i, weight in enumerate(weights):\n",
    "            print(f\"Weights {i} shape:\", weight.shape)\n",
    "            print(f\"Weights {i}:\", weight)\n",
    "print(model.evaluate(X_test, y_test))"
   ],
   "metadata": {
    "collapsed": false,
    "ExecuteTime": {
     "end_time": "2023-08-30T10:13:30.170524711Z",
     "start_time": "2023-08-30T10:13:29.671519267Z"
    }
   },
   "id": "aba21abd1aa7f8f4"
  },
  {
   "cell_type": "code",
   "execution_count": 6,
   "outputs": [
    {
     "name": "stdout",
     "output_type": "stream",
     "text": [
      "7\n"
     ]
    },
    {
     "data": {
      "text/plain": "<Figure size 480x480 with 1 Axes>",
      "image/png": "[encoded data removed]"
     },
     "metadata": {},
     "output_type": "display_data"
    }
   ],
   "source": [
    "X_test = X_test.reshape(len(X_test), 28, 28)\n",
    "plt.matshow(X_test[0])\n",
    "print(y_test[0])"
   ],
   "metadata": {
    "collapsed": false,
    "ExecuteTime": {
     "end_time": "2023-08-30T10:13:34.574507990Z",
     "start_time": "2023-08-30T10:13:34.464819209Z"
    }
   },
   "id": "5f97a2b983bbacbb"
  }
 ],
 "metadata": {
  "kernelspec": {
   "display_name": "Python 3",
   "language": "python",
   "name": "python3"
  },
  "language_info": {
   "codemirror_mode": {
    "name": "ipython",
    "version": 2
   },
   "file_extension": ".py",
   "mimetype": "text/x-python",
   "name": "python",
   "nbconvert_exporter": "python",
   "pygments_lexer": "ipython2",
   "version": "2.7.6"
  }
 },
 "nbformat": 4,
 "nbformat_minor": 5
}
