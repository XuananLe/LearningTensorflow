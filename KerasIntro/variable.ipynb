{
 "cells": [
  {
   "cell_type": "code",
   "execution_count": 47,
   "id": "initial_id",
   "metadata": {
    "collapsed": true,
    "ExecuteTime": {
     "end_time": "2023-09-22T14:07:37.262206502Z",
     "start_time": "2023-09-22T14:07:37.217605674Z"
    }
   },
   "outputs": [],
   "source": [
    "import numpy as np\n",
    "import tensorflow as tf"
   ]
  },
  {
   "cell_type": "code",
   "execution_count": 48,
   "outputs": [
    {
     "name": "stdout",
     "output_type": "stream",
     "text": [
      "tf.Tensor(\n",
      "[[1 2 3]\n",
      " [4 5 6]], shape=(2, 3), dtype=int32)\n",
      "tf.Tensor(\n",
      "[[-1.16991   ]\n",
      " [-0.5553992 ]\n",
      " [-0.21918781]], shape=(3, 1), dtype=float32)\n"
     ]
    }
   ],
   "source": [
    "x: tf.Tensor = tf.constant([[1, 2, 3], [4, 5, 6]], dtype=tf.int32)\n",
    "print(x)\n",
    "x: str = tf.random.normal(shape=(3, 1), mean=0., stddev=1.)\n",
    "print(x)"
   ],
   "metadata": {
    "collapsed": false,
    "ExecuteTime": {
     "end_time": "2023-09-22T14:07:37.263036128Z",
     "start_time": "2023-09-22T14:07:37.262084233Z"
    }
   },
   "id": "c748871cec9809b7"
  },
  {
   "cell_type": "code",
   "execution_count": 58,
   "outputs": [
    {
     "name": "stdout",
     "output_type": "stream",
     "text": [
      "[[1. 1.]\n",
      " [1. 1.]]\n",
      "[[  0. 123.]\n",
      " [  1.   1.]]\n",
      "<tf.Variable 'Variable:0' shape=(3, 1) dtype=float32, numpy=\n",
      "array([[1.],\n",
      "       [1.],\n",
      "       [1.]], dtype=float32)>\n",
      "<tf.Variable 'Variable:0' shape=(3, 1) dtype=float32, numpy=\n",
      "array([[2.],\n",
      "       [2.],\n",
      "       [2.]], dtype=float32)>\n"
     ]
    }
   ],
   "source": [
    "x = np.ones(shape=(2,2))\n",
    "print(x)\n",
    "x[0,0] = 0\n",
    "x[0,1] = 123\n",
    "print(x)\n",
    "v = tf.Variable(initial_value=tf.random.normal(shape=(3,1)))\n",
    "v.assign(tf.ones(shape=(3,1)))\n",
    "print(v)\n",
    "v.assign_add(tf.ones(shape=(3,1)))\n",
    "print(v)"
   ],
   "metadata": {
    "collapsed": false,
    "ExecuteTime": {
     "end_time": "2023-09-22T14:09:02.621664520Z",
     "start_time": "2023-09-22T14:09:02.616013684Z"
    }
   },
   "id": "d1851fbe29f9cc6"
  },
  {
   "cell_type": "code",
   "execution_count": 80,
   "outputs": [
    {
     "name": "stdout",
     "output_type": "stream",
     "text": [
      "tf.Tensor(6.0, shape=(), dtype=float32)\n"
     ]
    }
   ],
   "source": [
    "input_var = tf.Variable(initial_value=3.) # Shape 0\n",
    "with tf.GradientTape() as tape:\n",
    "    result = tf.square(input_var)\n",
    "gradient = tape.gradient(result, input_var)\n",
    "# Tính đạo hàm riêng của result theo input_var\n",
    "print(gradient)"
   ],
   "metadata": {
    "collapsed": false,
    "ExecuteTime": {
     "end_time": "2023-09-22T14:16:16.072753360Z",
     "start_time": "2023-09-22T14:16:16.068203220Z"
    }
   },
   "id": "13e843eca52b754f"
  },
  {
   "cell_type": "code",
   "execution_count": 89,
   "outputs": [
    {
     "name": "stdout",
     "output_type": "stream",
     "text": [
      "tf.Tensor([1. 1. 1. 1.], shape=(4,), dtype=float32)\n"
     ]
    }
   ],
   "source": [
    "# Xét 1 ví dụ hàm có nhiều biến đầu vào\n",
    "input_vars = tf.Variable(initial_value=[1., 2., 3., 4.]) # Shape 1\n",
    "with tf.GradientTape() as tape:\n",
    "    # Tính giá trị hàm số\n",
    "    result = tf.abs(input_vars)\n",
    "# Tính đạo hàm riêng của result theo input_vars\n",
    "gradients = tape.gradient(result, input_vars)\n",
    "print(gradients)"
   ],
   "metadata": {
    "collapsed": false,
    "ExecuteTime": {
     "end_time": "2023-09-22T14:25:18.378795239Z",
     "start_time": "2023-09-22T14:25:18.335150387Z"
    }
   },
   "id": "77b8f199802f279e"
  },
  {
   "cell_type": "code",
   "execution_count": 103,
   "outputs": [
    {
     "name": "stdout",
     "output_type": "stream",
     "text": [
      "Gradient with respect to x: 66.0\n",
      "Gradient with respect to y: 12.0\n"
     ]
    }
   ],
   "source": [
    "# Tính gradient của hàm 3x + 2y\n",
    "x = tf.Variable(initial_value=3.)\n",
    "y = tf.Variable(initial_value=2.)\n",
    "with tf.GradientTape() as tape:\n",
    "    result = 11*x*x + 12*y\n",
    "gradients = tape.gradient(result, [x, y])\n",
    "print(\"Gradient with respect to x:\", gradients[0].numpy())\n",
    "print(\"Gradient with respect to y:\", gradients[1].numpy())"
   ],
   "metadata": {
    "collapsed": false,
    "ExecuteTime": {
     "end_time": "2023-09-22T14:29:51.985561241Z",
     "start_time": "2023-09-22T14:29:51.980425413Z"
    }
   },
   "id": "d2c4d88e920e1b7f"
  },
  {
   "cell_type": "code",
   "execution_count": 100,
   "outputs": [
    {
     "name": "stdout",
     "output_type": "stream",
     "text": [
      "tf.Tensor(6.0, shape=(), dtype=float32)\n"
     ]
    }
   ],
   "source": [
    "input_const = tf.constant(3.)\n",
    "with tf.GradientTape() as tape:\n",
    "    tape.watch(input_const)\n",
    "    result = tf.square(input_const)\n",
    "gradient = tape.gradient(result, input_const)\n",
    "print(gradient)"
   ],
   "metadata": {
    "collapsed": false,
    "ExecuteTime": {
     "end_time": "2023-09-22T14:29:28.446455528Z",
     "start_time": "2023-09-22T14:29:28.443300994Z"
    }
   },
   "id": "e6660270dd2ac15e"
  },
  {
   "cell_type": "code",
   "execution_count": 106,
   "outputs": [
    {
     "name": "stdout",
     "output_type": "stream",
     "text": [
      "tf.Tensor(2.0, shape=(), dtype=float32)\n"
     ]
    }
   ],
   "source": [
    "# Tính đạo hàm bậc 2 của hàm số y = x^2 + 2x + 1\n",
    "x = tf.Variable(initial_value=123.)\n",
    "with tf.GradientTape() as tape_1:\n",
    "    with tf.GradientTape() as tape_2:\n",
    "        y = x * x + 2 * x + 1\n",
    "    # Tính đạo hàm bậc nhất của y theo x\n",
    "    dy_dx = tape_2.gradient(y, x)\n",
    "# Tính đạo hàm bậc 2 của y theo x\n",
    "d2y_dx2 = tape_1.gradient(dy_dx, x)\n",
    "print(d2y_dx2)"
   ],
   "metadata": {
    "collapsed": false,
    "ExecuteTime": {
     "end_time": "2023-09-22T14:31:09.766724022Z",
     "start_time": "2023-09-22T14:31:09.756901631Z"
    }
   },
   "id": "aa55e1455438bdf3"
  },
  {
   "cell_type": "code",
   "execution_count": null,
   "outputs": [],
   "source": [],
   "metadata": {
    "collapsed": false
   },
   "id": "fdd48b107ddc3eae"
  }
 ],
 "metadata": {
  "kernelspec": {
   "display_name": "Python 3",
   "language": "python",
   "name": "python3"
  },
  "language_info": {
   "codemirror_mode": {
    "name": "ipython",
    "version": 3
   },
   "file_extension": ".py",
   "mimetype": "text/x-python",
   "name": "python",
   "nbconvert_exporter": "python",
   "pygments_lexer": "ipython3",
   "version": "3.11.4"
  }
 },
 "nbformat": 4,
 "nbformat_minor": 5
}
